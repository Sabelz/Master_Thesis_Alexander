{
  "nbformat": 4,
  "nbformat_minor": 0,
  "metadata": {
    "colab": {
      "provenance": [],
      "authorship_tag": "ABX9TyPcsjuTCUvE5bQhbcye6GsK",
      "include_colab_link": true
    },
    "kernelspec": {
      "name": "python3",
      "display_name": "Python 3"
    },
    "language_info": {
      "name": "python"
    }
  },
  "cells": [
    {
      "cell_type": "markdown",
      "metadata": {
        "id": "view-in-github",
        "colab_type": "text"
      },
      "source": [
        "<a href=\"https://colab.research.google.com/github/Sabelz/Master_Thesis_Alexander/blob/main/functions.ipynb\" target=\"_parent\"><img src=\"https://colab.research.google.com/assets/colab-badge.svg\" alt=\"Open In Colab\"/></a>"
      ]
    },
    {
      "cell_type": "markdown",
      "source": [
        "# Functions and other utils for the project"
      ],
      "metadata": {
        "id": "7PrRN4ckBB6o"
      }
    },
    {
      "cell_type": "markdown",
      "source": [
        "# Imports"
      ],
      "metadata": {
        "id": "EkZuAB9jBwQB"
      }
    },
    {
      "cell_type": "code",
      "source": [
        "from google.colab import drive\n",
        "drive.mount('/content/drive')\n",
        "%cd /content/drive/MyDrive/Master_Thesis_Alexander\n",
        "!git config --global user.email \"alexander.sabelstrom.1040@student.uu.se\"\n",
        "!git config --global user.name \"Sabelz\"\n",
        "\n",
        "import numpy as np\n",
        "import matplotlib.pyplot as plt\n",
        "import torch\n",
        "!pip install gpytorch\n",
        "import gpytorch"
      ],
      "metadata": {
        "colab": {
          "base_uri": "https://localhost:8080/"
        },
        "id": "l56clfMhBHm_",
        "outputId": "0af81f78-4bee-417c-c8f3-62796c106522"
      },
      "execution_count": 1,
      "outputs": [
        {
          "output_type": "stream",
          "name": "stdout",
          "text": [
            "Mounted at /content/drive\n",
            "/content/drive/MyDrive/Master_Thesis_Alexander\n",
            "Collecting gpytorch\n",
            "  Downloading gpytorch-1.11-py3-none-any.whl (266 kB)\n",
            "\u001b[2K     \u001b[90m━━━━━━━━━━━━━━━━━━━━━━━━━━━━━━━━━━━━━━━━\u001b[0m \u001b[32m266.1/266.1 kB\u001b[0m \u001b[31m5.1 MB/s\u001b[0m eta \u001b[36m0:00:00\u001b[0m\n",
            "\u001b[?25hRequirement already satisfied: scikit-learn in /usr/local/lib/python3.10/dist-packages (from gpytorch) (1.2.2)\n",
            "Collecting linear-operator>=0.5.0 (from gpytorch)\n",
            "  Downloading linear_operator-0.5.2-py3-none-any.whl (175 kB)\n",
            "\u001b[2K     \u001b[90m━━━━━━━━━━━━━━━━━━━━━━━━━━━━━━━━━━━━━━━━\u001b[0m \u001b[32m175.6/175.6 kB\u001b[0m \u001b[31m9.6 MB/s\u001b[0m eta \u001b[36m0:00:00\u001b[0m\n",
            "\u001b[?25hRequirement already satisfied: torch>=1.11 in /usr/local/lib/python3.10/dist-packages (from linear-operator>=0.5.0->gpytorch) (2.1.0+cu121)\n",
            "Requirement already satisfied: scipy in /usr/local/lib/python3.10/dist-packages (from linear-operator>=0.5.0->gpytorch) (1.11.4)\n",
            "Collecting jaxtyping>=0.2.9 (from linear-operator>=0.5.0->gpytorch)\n",
            "  Downloading jaxtyping-0.2.25-py3-none-any.whl (39 kB)\n",
            "Collecting typeguard~=2.13.3 (from linear-operator>=0.5.0->gpytorch)\n",
            "  Downloading typeguard-2.13.3-py3-none-any.whl (17 kB)\n",
            "Requirement already satisfied: numpy>=1.17.3 in /usr/local/lib/python3.10/dist-packages (from scikit-learn->gpytorch) (1.23.5)\n",
            "Requirement already satisfied: joblib>=1.1.1 in /usr/local/lib/python3.10/dist-packages (from scikit-learn->gpytorch) (1.3.2)\n",
            "Requirement already satisfied: threadpoolctl>=2.0.0 in /usr/local/lib/python3.10/dist-packages (from scikit-learn->gpytorch) (3.2.0)\n",
            "Requirement already satisfied: typing-extensions>=3.7.4.1 in /usr/local/lib/python3.10/dist-packages (from jaxtyping>=0.2.9->linear-operator>=0.5.0->gpytorch) (4.9.0)\n",
            "Requirement already satisfied: filelock in /usr/local/lib/python3.10/dist-packages (from torch>=1.11->linear-operator>=0.5.0->gpytorch) (3.13.1)\n",
            "Requirement already satisfied: sympy in /usr/local/lib/python3.10/dist-packages (from torch>=1.11->linear-operator>=0.5.0->gpytorch) (1.12)\n",
            "Requirement already satisfied: networkx in /usr/local/lib/python3.10/dist-packages (from torch>=1.11->linear-operator>=0.5.0->gpytorch) (3.2.1)\n",
            "Requirement already satisfied: jinja2 in /usr/local/lib/python3.10/dist-packages (from torch>=1.11->linear-operator>=0.5.0->gpytorch) (3.1.3)\n",
            "Requirement already satisfied: fsspec in /usr/local/lib/python3.10/dist-packages (from torch>=1.11->linear-operator>=0.5.0->gpytorch) (2023.6.0)\n",
            "Requirement already satisfied: triton==2.1.0 in /usr/local/lib/python3.10/dist-packages (from torch>=1.11->linear-operator>=0.5.0->gpytorch) (2.1.0)\n",
            "Requirement already satisfied: MarkupSafe>=2.0 in /usr/local/lib/python3.10/dist-packages (from jinja2->torch>=1.11->linear-operator>=0.5.0->gpytorch) (2.1.5)\n",
            "Requirement already satisfied: mpmath>=0.19 in /usr/local/lib/python3.10/dist-packages (from sympy->torch>=1.11->linear-operator>=0.5.0->gpytorch) (1.3.0)\n",
            "Installing collected packages: typeguard, jaxtyping, linear-operator, gpytorch\n",
            "Successfully installed gpytorch-1.11 jaxtyping-0.2.25 linear-operator-0.5.2 typeguard-2.13.3\n"
          ]
        }
      ]
    },
    {
      "cell_type": "markdown",
      "source": [
        "# Training Function"
      ],
      "metadata": {
        "id": "PibOrFKwChDi"
      }
    },
    {
      "cell_type": "code",
      "source": [
        "def train(model, likelihood, train_x, train_y, training_iter=10):\n",
        "    \"\"\"\n",
        "    This function trains a Gaussian Process (GP) model using the Adam optimizer\n",
        "    and the Exact Marginal Log Likelihood (MLL) loss.\n",
        "    The function first sets up the optimizer and the MLL. Then,\n",
        "    for each training iteration, it zeros out the gradients from the previous iteration,\n",
        "    computes the model's output on the training data, calculates the loss,\n",
        "    backpropagates the gradients, and updates the model's parameters with a step of the optimizer.\n",
        "\n",
        "    Parameters:\n",
        "    model (gpytorch.models.GP): The GP model to train.\n",
        "    likelihood (gpytorch.likelihoods.Likelihood): The likelihood associated with the model.\n",
        "    train_x (torch.Tensor): The training inputs.\n",
        "    train_y (torch.Tensor): The training targets.\n",
        "    training_iter (int, optional): The number of training iterations. Defaults to 10.\n",
        "\n",
        "    Returns:\n",
        "    None\n",
        "    \"\"\"\n",
        "    # Use the adam optimizer\n",
        "    optimizer = torch.optim.Adam(model.parameters(), lr=0.1)  # Includes GaussianLikelihood parameters\n",
        "\n",
        "    # \"Loss\" for GPs - the marginal log likelihood\n",
        "    mll = gpytorch.mlls.ExactMarginalLogLikelihood(likelihood, model)\n",
        "\n",
        "    for i in range(training_iter):\n",
        "        # Zero gradients from previous iteration\n",
        "        optimizer.zero_grad()\n",
        "        # Output from model\n",
        "        output = model(train_x)\n",
        "        # Calc loss and backprop gradients\n",
        "        loss = -mll(output, train_y)\n",
        "        loss.backward()\n",
        "        optimizer.step()\n"
      ],
      "metadata": {
        "id": "fGH9HHCGCjoZ"
      },
      "execution_count": 2,
      "outputs": []
    },
    {
      "cell_type": "markdown",
      "source": [
        "# Predict Function"
      ],
      "metadata": {
        "id": "ucNcGiyBIrFj"
      }
    },
    {
      "cell_type": "code",
      "source": [
        "def predict(model, likelihood, test_x):\n",
        "    \"\"\"\n",
        "    This function makes predictions using a given model and likelihood.\n",
        "\n",
        "    The function sets the model and likelihood to evaluation mode,\n",
        "    then computes the likelihood of the model's predictions on the test data.\n",
        "    It uses PyTorch's `no_grad` context manager to avoid tracking gradients during the prediction,\n",
        "    and GPyTorch's `fast_pred_var` setting for efficient computation.\n",
        "\n",
        "    Parameters:\n",
        "    model (gpytorch.models.GP): The Gaussian Process model to make predictions with.\n",
        "    likelihood (gpytorch.likelihoods.Likelihood): The likelihood associated with the model.\n",
        "    test_x (torch.Tensor): The test inputs to make predictions on.\n",
        "\n",
        "    Returns:\n",
        "    gpytorch.distributions.MultivariateNormal: The distribution of the model's predictions.\n",
        "    \"\"\"\n",
        "    model.eval()\n",
        "    likelihood.eval()\n",
        "    # Make predictions by feeding model through likelihood\n",
        "    with torch.no_grad(), gpytorch.settings.fast_pred_var():\n",
        "        return likelihood(model(test_x))"
      ],
      "metadata": {
        "id": "WcjCXqaNIs8Z"
      },
      "execution_count": 10,
      "outputs": []
    },
    {
      "cell_type": "code",
      "source": [
        "!git push"
      ],
      "metadata": {
        "colab": {
          "base_uri": "https://localhost:8080/"
        },
        "id": "ioos-lFxIbs5",
        "outputId": "d05c9832-bc4c-4468-b31b-c3a4f0761dc1"
      },
      "execution_count": 9,
      "outputs": [
        {
          "output_type": "stream",
          "name": "stdout",
          "text": [
            "remote: Permission to Sabelz/Master_Thesis_Alexander.git denied to Sabelz.\n",
            "fatal: unable to access 'https://github.com/Sabelz/Master_Thesis_Alexander.git/': The requested URL returned error: 403\n"
          ]
        }
      ]
    }
  ]
}