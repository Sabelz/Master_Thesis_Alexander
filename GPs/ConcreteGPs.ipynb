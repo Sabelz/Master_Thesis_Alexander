{
  "nbformat": 4,
  "nbformat_minor": 0,
  "metadata": {
    "colab": {
      "provenance": [],
      "gpuType": "T4",
      "authorship_tag": "ABX9TyOLlLUF8XuX58AY2E1/lIVR",
      "include_colab_link": true
    },
    "kernelspec": {
      "name": "python3",
      "display_name": "Python 3"
    },
    "language_info": {
      "name": "python"
    },
    "accelerator": "GPU"
  },
  "cells": [
    {
      "cell_type": "markdown",
      "metadata": {
        "id": "view-in-github",
        "colab_type": "text"
      },
      "source": [
        "<a href=\"https://colab.research.google.com/github/Sabelz/Master_Thesis_Alexander/blob/main/GPs/ConcreteGPs.ipynb\" target=\"_parent\"><img src=\"https://colab.research.google.com/assets/colab-badge.svg\" alt=\"Open In Colab\"/></a>"
      ]
    },
    {
      "cell_type": "markdown",
      "source": [
        "# Gaussian Processes on the Concrete dataset"
      ],
      "metadata": {
        "id": "GIsFcWYCO2ZI"
      }
    },
    {
      "cell_type": "code",
      "source": [
        "from google.colab import drive\n",
        "drive.mount('/content/drive')\n",
        "%cd /content/drive/MyDrive/Master_Thesis_Alexander\n",
        "!git config --global user.email \"alexander.sabelstrom.1040@student.uu.se\"\n",
        "!git config --global user.name \"Sabelz\""
      ],
      "metadata": {
        "colab": {
          "base_uri": "https://localhost:8080/"
        },
        "id": "ntE44AOlO41w",
        "outputId": "e2398808-9644-4513-8a23-3b71fb998c5b"
      },
      "execution_count": 1,
      "outputs": [
        {
          "output_type": "stream",
          "name": "stdout",
          "text": [
            "Mounted at /content/drive\n",
            "/content/drive/MyDrive/Master_Thesis_Alexander\n"
          ]
        }
      ]
    },
    {
      "cell_type": "markdown",
      "source": [
        "# Imports"
      ],
      "metadata": {
        "id": "TxsXYMYvO9x_"
      }
    },
    {
      "cell_type": "code",
      "source": [
        "import numpy as np\n",
        "import matplotlib.pyplot as plt\n",
        "import torch\n",
        "!pip install gpytorch > \\dev\\null # Suppress prints\n",
        "import gpytorch\n",
        "import seaborn as sns\n",
        "from sklearn.model_selection import train_test_split\n",
        "from sklearn.metrics import mean_squared_error\n",
        "from torch.utils.data import TensorDataset, DataLoader\n",
        "\n",
        "%matplotlib inline\n",
        "%load_ext autoreload\n",
        "%autoreload 2\n",
        "%run \"datasets/concrete.ipynb\" # Run the Concrete notebook\n",
        "%run \"utils/models.ipynb\" # Run the models notebook\n",
        "%run \"utils/functions.ipynb\" # Run the functions notebook"
      ],
      "metadata": {
        "colab": {
          "base_uri": "https://localhost:8080/"
        },
        "id": "-1F-gbhvO-4V",
        "outputId": "a39a4b7e-1eb4-4429-ff13-d387c83b39ec"
      },
      "execution_count": 2,
      "outputs": [
        {
          "output_type": "stream",
          "name": "stdout",
          "text": [
            "Drive already mounted at /content/drive; to attempt to forcibly remount, call drive.mount(\"/content/drive\", force_remount=True).\n",
            "/content/drive/MyDrive/Master_Thesis_Alexander\n",
            "<class 'pandas.core.frame.DataFrame'>\n",
            "RangeIndex: 1030 entries, 0 to 1029\n",
            "Data columns (total 9 columns):\n",
            " #   Column                                                 Non-Null Count  Dtype  \n",
            "---  ------                                                 --------------  -----  \n",
            " 0   Cement (component 1)(kg in a m^3 mixture)              1030 non-null   float64\n",
            " 1   Blast Furnace Slag (component 2)(kg in a m^3 mixture)  1030 non-null   float64\n",
            " 2   Fly Ash (component 3)(kg in a m^3 mixture)             1030 non-null   float64\n",
            " 3   Water  (component 4)(kg in a m^3 mixture)              1030 non-null   float64\n",
            " 4   Superplasticizer (component 5)(kg in a m^3 mixture)    1030 non-null   float64\n",
            " 5   Coarse Aggregate  (component 6)(kg in a m^3 mixture)   1030 non-null   float64\n",
            " 6   Fine Aggregate (component 7)(kg in a m^3 mixture)      1030 non-null   float64\n",
            " 7   Age (day)                                              1030 non-null   int64  \n",
            " 8   Concrete compressive strength(MPa, megapascals)        1030 non-null   float64\n",
            "dtypes: float64(8), int64(1)\n",
            "memory usage: 72.5 KB\n",
            "None\n",
            "\n",
            "Cement (component 1)(kg in a m^3 mixture)                False\n",
            "Blast Furnace Slag (component 2)(kg in a m^3 mixture)    False\n",
            "Fly Ash (component 3)(kg in a m^3 mixture)               False\n",
            "Water  (component 4)(kg in a m^3 mixture)                False\n",
            "Superplasticizer (component 5)(kg in a m^3 mixture)      False\n",
            "Coarse Aggregate  (component 6)(kg in a m^3 mixture)     False\n",
            "Fine Aggregate (component 7)(kg in a m^3 mixture)        False\n",
            "Age (day)                                                False\n",
            "Concrete compressive strength(MPa, megapascals)          False\n",
            "dtype: bool\n",
            "Drive already mounted at /content/drive; to attempt to forcibly remount, call drive.mount(\"/content/drive\", force_remount=True).\n",
            "/content/drive/MyDrive/Master_Thesis_Alexander\n",
            "----------------------------------------------------------\n",
            "ALL MODELS: \n",
            "KISS-GP For 1D-4D data:\n",
            "    Example:\n",
            "      likelihood = gpytorch.likelihoods.GaussianLikelihood()\n",
            "      mean = gpytorch.means.ConstantMean()\n",
            "      kernel = gpytorch.kernels.RBFKernel()\n",
            "      model = KISSGP(x_train, y_train, likelihood, mean, kernel)\n",
            "      model = model.to(device) # Move model to device\n",
            "\n",
            "KISS-GP For higher dimensional data:\n",
            "    Example:\n",
            "      likelihood = gpytorch.likelihoods.GaussianLikelihood()\n",
            "      mean = gpytorch.means.ConstantMean()\n",
            "      kernel = gpytorch.kernels.RBFKernel()\n",
            "      model = KISSGP_NDim(x_train, y_train, likelihood, mean, kernel)\n",
            "      model = model.to(device) # Move model to device\n",
            "\n",
            "Inducing Points GP:\n",
            "    Example:\n",
            "      likelihood = gpytorch.likelihoods.GaussianLikelihood()\n",
            "      mean = gpytorch.means.ConstantMean()\n",
            "      kernel = gpytorch.kernels.RBFKernel()\n",
            "      n_inducing_points = 500\n",
            "      inducing_points = x_train[torch.randperm(x_train.size(0))[:num_inducing_points]]\n",
            "      model = InducingGP(likelihood, mean, kernel, inducing_points)\n",
            "      model = model.to(device) # Move model to device.\n",
            "Drive already mounted at /content/drive; to attempt to forcibly remount, call drive.mount(\"/content/drive\", force_remount=True).\n",
            "/content/drive/MyDrive/Master_Thesis_Alexander\n"
          ]
        }
      ]
    },
    {
      "cell_type": "markdown",
      "source": [
        "# Prepare The Data"
      ],
      "metadata": {
        "id": "lgmw_ArDQMs0"
      }
    },
    {
      "cell_type": "code",
      "source": [
        "concrete_data = df_Concrete # df_Concrete is defined in ../datasets/concrete.ipynb\n",
        "# Concrete compressive strength(last feature) is the regression problem\n",
        "x_concrete, y_concrete = concrete_data.iloc[:, :-1].to_numpy() , concrete_data.iloc[:, -1].to_numpy()\n",
        "\n",
        "x_train_concrete, x_test_concrete, y_train_concrete, y_test_concrete = (\n",
        "    train_test_split(x_concrete, y_concrete, test_size=0.2, random_state=666))\n",
        "# Transform into tensors\n",
        "x_train_concrete, x_test_concrete, y_train_concrete, y_test_concrete = (\n",
        "torch.from_numpy(x_train_concrete).float(), torch.from_numpy(x_test_concrete).float(),\n",
        "torch.from_numpy(y_train_concrete).float(), torch.from_numpy(y_test_concrete).float())\n",
        "\n",
        "if torch.cuda.is_available():\n",
        "    x_train_concrete, y_train_concrete, x_test_concrete, y_test_concrete = (\n",
        "    x_train_concrete.cuda(), y_train_concrete.cuda(), x_test_concrete.cuda(), y_test_concrete.cuda())\n",
        "\n",
        "# Train data into batches\n",
        "train_dataset_concrete = TensorDataset(x_train_concrete, y_train_concrete)\n",
        "train_loader_concrete = DataLoader(train_dataset_concrete, batch_size=500, shuffle=True)\n",
        "\n",
        "# Test data into batches\n",
        "test_dataset_concrete = TensorDataset(x_test_concrete, y_test_concrete)\n",
        "test_loader_concrete = DataLoader(test_dataset_concrete, batch_size=500, shuffle=False)"
      ],
      "metadata": {
        "id": "QyOMKdh1QMyQ"
      },
      "execution_count": 6,
      "outputs": []
    },
    {
      "cell_type": "markdown",
      "source": [
        "# Define the KISS-GP Model for higher dimensions"
      ],
      "metadata": {
        "id": "RNzQmcE1YzXc"
      }
    },
    {
      "cell_type": "code",
      "source": [
        "KISSGP_likelihood_concrete = gpytorch.likelihoods.GaussianLikelihood() # Likelihood\n",
        "KISSGP_mean_concrete = gpytorch.means.ConstantMean() # Mean\n",
        "KISSGP_kernel_concrete = gpytorch.kernels.RBFKernel() # Kernel\n",
        "KISSGP_model_concrete = KISSGP_NDim(x_train_concrete, y_train_concrete, KISSGP_likelihood_concrete, KISSGP_mean_concrete, KISSGP_kernel_concrete) # KISSGP_NDim defined in utils/Models.ipynb"
      ],
      "metadata": {
        "id": "loo9_BjvY294"
      },
      "execution_count": 7,
      "outputs": []
    },
    {
      "cell_type": "markdown",
      "source": [
        "# Train and Evaluate the KISS-GP Model"
      ],
      "metadata": {
        "id": "Tjd0pJXrZYLz"
      }
    },
    {
      "cell_type": "code",
      "source": [
        "train(KISSGP_model_concrete, KISSGP_likelihood_concrete, x_train_concrete, y_train_concrete, training_iter= 40) # train is defined in utils/functions.ipynb"
      ],
      "metadata": {
        "id": "hvrQrtb-ZYjk"
      },
      "execution_count": 8,
      "outputs": []
    },
    {
      "cell_type": "code",
      "source": [
        "with torch.no_grad(), gpytorch.settings.fast_pred_var():\n",
        "  predictions_KISSGP_concrete = predict(KISSGP_model_concrete, KISSGP_likelihood_concrete, x_test_concrete) # predict is defined in utils/functions.ipynb\n",
        "\n",
        "# Root Mean Square Error(RMSE)\n",
        "RMSE_KISSGP_concrete = mean_squared_error(y_test_concrete, predictions_KISSGP_concrete.mean, squared=False)\n",
        "print(\"RMSE KISS-GP: \",RMSE_KISSGP_concrete)"
      ],
      "metadata": {
        "colab": {
          "base_uri": "https://localhost:8080/"
        },
        "id": "egSNg8fAaCVQ",
        "outputId": "44c18388-dedf-4a4f-d5b7-c65b2fdb0268"
      },
      "execution_count": 9,
      "outputs": [
        {
          "output_type": "stream",
          "name": "stdout",
          "text": [
            "RMSE KISS-GP:  7.270204\n"
          ]
        }
      ]
    },
    {
      "cell_type": "markdown",
      "source": [
        "# Inducing Point Model"
      ],
      "metadata": {
        "id": "fqeHDPEia8sO"
      }
    },
    {
      "cell_type": "code",
      "source": [
        "inducing_likelihood_concrete = gpytorch.likelihoods.GaussianLikelihood()\n",
        "inducing_mean_concrete = gpytorch.means.ConstantMean()\n",
        "inducing_kernel_concrete = gpytorch.kernels.RBFKernel()\n",
        "n_inducing_points = 150\n",
        "# Generate a tensor of random indices\n",
        "indices = torch.randperm(x_train_concrete.size(0))\n",
        "# Select N random rows\n",
        "inducing_points = x_train_concrete[indices][:n_inducing_points]\n",
        "inducing_model_concrete = InducingGP(inducing_likelihood_concrete, inducing_mean_concrete, inducing_kernel_concrete, inducing_points) # InducingGP defined in utils/models.ipynb\n",
        "inducing_model_concrete = inducing_model_concrete.to(device) # Move model to device, defined in utils/models.ipynb"
      ],
      "metadata": {
        "id": "lJqvHe4Fa97f"
      },
      "execution_count": 10,
      "outputs": []
    },
    {
      "cell_type": "markdown",
      "source": [
        "# Train and Evaluate Inducing Point Model"
      ],
      "metadata": {
        "id": "2pVy3hOiba9z"
      }
    },
    {
      "cell_type": "code",
      "source": [
        "# Use train_loader_concrete\n",
        "train_ELBO(inducing_model_concrete, inducing_likelihood_concrete, x_train_concrete, y_train_concrete, training_iter= 1000, train_loader=train_loader_concrete) # train is defined in utils/functions.ipynb"
      ],
      "metadata": {
        "id": "lQPZF46gbc_a"
      },
      "execution_count": 11,
      "outputs": []
    },
    {
      "cell_type": "code",
      "source": [
        "with torch.no_grad(), gpytorch.settings.fast_pred_var():\n",
        "  # predict is defined in utils/functions.ipynb\n",
        "  predictions_inducing_concrete = predict(inducing_model_concrete, inducing_likelihood_concrete, x_test_concrete)\n",
        "  # Root Mean Square Error(RMSE)\n",
        "  # NumPy can only handle CPU tensors\n",
        "  y_test_concrete_cpu = y_test_concrete.cpu()\n",
        "  predictions_inducing_concrete_cpu = predictions_inducing_concrete.mean.cpu()\n",
        "  RMSE_inducing_concrete = mean_squared_error(y_test_concrete_cpu, predictions_inducing_concrete_cpu, squared=False)\n",
        "  print(\"RMSE Inducing Model: \",RMSE_inducing_concrete)"
      ],
      "metadata": {
        "colab": {
          "base_uri": "https://localhost:8080/"
        },
        "id": "uul_HYWhbn--",
        "outputId": "1c12157b-3395-498d-b99c-0662e78b4f0a"
      },
      "execution_count": 12,
      "outputs": [
        {
          "output_type": "stream",
          "name": "stdout",
          "text": [
            "RMSE Inducing Model:  6.313922460669976\n"
          ]
        }
      ]
    }
  ]
}