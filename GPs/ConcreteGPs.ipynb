{
  "nbformat": 4,
  "nbformat_minor": 0,
  "metadata": {
    "colab": {
      "provenance": [],
      "gpuType": "T4",
      "authorship_tag": "ABX9TyMTbJOffMgylC9CmYOL2uyy",
      "include_colab_link": true
    },
    "kernelspec": {
      "name": "python3",
      "display_name": "Python 3"
    },
    "language_info": {
      "name": "python"
    },
    "accelerator": "GPU"
  },
  "cells": [
    {
      "cell_type": "markdown",
      "metadata": {
        "id": "view-in-github",
        "colab_type": "text"
      },
      "source": [
        "<a href=\"https://colab.research.google.com/github/Sabelz/Master_Thesis_Alexander/blob/main/GPs/ConcreteGPs.ipynb\" target=\"_parent\"><img src=\"https://colab.research.google.com/assets/colab-badge.svg\" alt=\"Open In Colab\"/></a>"
      ]
    },
    {
      "cell_type": "markdown",
      "source": [
        "# Gaussian Processes on the Concrete dataset"
      ],
      "metadata": {
        "id": "GIsFcWYCO2ZI"
      }
    },
    {
      "cell_type": "code",
      "source": [
        "from google.colab import drive\n",
        "drive.mount('/content/drive')\n",
        "%cd /content/drive/MyDrive/Master_Thesis_Alexander\n",
        "!git config --global user.email \"alexander.sabelstrom.1040@student.uu.se\"\n",
        "!git config --global user.name \"Sabelz\""
      ],
      "metadata": {
        "colab": {
          "base_uri": "https://localhost:8080/"
        },
        "id": "ntE44AOlO41w",
        "outputId": "584ff317-8322-478c-a19e-d01e51457a75"
      },
      "execution_count": 1,
      "outputs": [
        {
          "output_type": "stream",
          "name": "stdout",
          "text": [
            "Mounted at /content/drive\n",
            "/content/drive/MyDrive/Master_Thesis_Alexander\n"
          ]
        }
      ]
    },
    {
      "cell_type": "markdown",
      "source": [
        "# Imports"
      ],
      "metadata": {
        "id": "TxsXYMYvO9x_"
      }
    },
    {
      "cell_type": "code",
      "source": [
        "import numpy as np\n",
        "import matplotlib.pyplot as plt\n",
        "import torch\n",
        "!pip install gpytorch > \\dev\\null # Suppress prints\n",
        "import gpytorch\n",
        "import seaborn as sns\n",
        "from sklearn.model_selection import train_test_split\n",
        "from sklearn.metrics import mean_squared_error\n",
        "from torch.utils.data import TensorDataset, DataLoader\n",
        "from sklearn.preprocessing import StandardScaler\n",
        "\n",
        "%matplotlib inline\n",
        "%load_ext autoreload\n",
        "%autoreload 2\n",
        "%run \"datasets/concrete.ipynb\" # Run the Concrete notebook\n",
        "%run \"utils/models.ipynb\" # Run the models notebook\n",
        "%run \"utils/functions.ipynb\" # Run the functions notebook"
      ],
      "metadata": {
        "colab": {
          "base_uri": "https://localhost:8080/"
        },
        "id": "-1F-gbhvO-4V",
        "outputId": "52c4b2cf-afc4-476c-e57e-7f6852dd939d"
      },
      "execution_count": 2,
      "outputs": [
        {
          "output_type": "stream",
          "name": "stdout",
          "text": [
            "Drive already mounted at /content/drive; to attempt to forcibly remount, call drive.mount(\"/content/drive\", force_remount=True).\n",
            "/content/drive/MyDrive/Master_Thesis_Alexander\n",
            "<class 'pandas.core.frame.DataFrame'>\n",
            "RangeIndex: 1030 entries, 0 to 1029\n",
            "Data columns (total 9 columns):\n",
            " #   Column                                                 Non-Null Count  Dtype  \n",
            "---  ------                                                 --------------  -----  \n",
            " 0   Cement (component 1)(kg in a m^3 mixture)              1030 non-null   float64\n",
            " 1   Blast Furnace Slag (component 2)(kg in a m^3 mixture)  1030 non-null   float64\n",
            " 2   Fly Ash (component 3)(kg in a m^3 mixture)             1030 non-null   float64\n",
            " 3   Water  (component 4)(kg in a m^3 mixture)              1030 non-null   float64\n",
            " 4   Superplasticizer (component 5)(kg in a m^3 mixture)    1030 non-null   float64\n",
            " 5   Coarse Aggregate  (component 6)(kg in a m^3 mixture)   1030 non-null   float64\n",
            " 6   Fine Aggregate (component 7)(kg in a m^3 mixture)      1030 non-null   float64\n",
            " 7   Age (day)                                              1030 non-null   int64  \n",
            " 8   Concrete compressive strength(MPa, megapascals)        1030 non-null   float64\n",
            "dtypes: float64(8), int64(1)\n",
            "memory usage: 72.5 KB\n",
            "None\n",
            "\n",
            "Cement (component 1)(kg in a m^3 mixture)                False\n",
            "Blast Furnace Slag (component 2)(kg in a m^3 mixture)    False\n",
            "Fly Ash (component 3)(kg in a m^3 mixture)               False\n",
            "Water  (component 4)(kg in a m^3 mixture)                False\n",
            "Superplasticizer (component 5)(kg in a m^3 mixture)      False\n",
            "Coarse Aggregate  (component 6)(kg in a m^3 mixture)     False\n",
            "Fine Aggregate (component 7)(kg in a m^3 mixture)        False\n",
            "Age (day)                                                False\n",
            "Concrete compressive strength(MPa, megapascals)          False\n",
            "dtype: bool\n",
            "Drive already mounted at /content/drive; to attempt to forcibly remount, call drive.mount(\"/content/drive\", force_remount=True).\n",
            "/content/drive/MyDrive/Master_Thesis_Alexander\n",
            "----------------------------------------------------------\n",
            "ALL MODELS: \n",
            "KISS-GP For 1D-4D data:\n",
            "    Example:\n",
            "      likelihood = gpytorch.likelihoods.GaussianLikelihood()\n",
            "      mean = gpytorch.means.ConstantMean()\n",
            "      kernel = gpytorch.kernels.RBFKernel()\n",
            "      model = KISSGP(x_train, y_train, likelihood, mean, kernel)\n",
            "      model = model.to(device) # Move model to device\n",
            "\n",
            "KISS-GP For higher dimensional data:\n",
            "    Example:\n",
            "      likelihood = gpytorch.likelihoods.GaussianLikelihood()\n",
            "      mean = gpytorch.means.ConstantMean()\n",
            "      kernel = gpytorch.kernels.RBFKernel()\n",
            "      model = KISSGP_NDim(x_train, y_train, likelihood, mean, kernel)\n",
            "      model = model.to(device) # Move model to device\n",
            "\n",
            " Variational GP:\n",
            "    Example:\n",
            "      likelihood = gpytorch.likelihoods.GaussianLikelihood()\n",
            "      mean = gpytorch.means.ConstantMean()\n",
            "      kernel = gpytorch.kernels.RBFKernel()\n",
            "      n_inducing_points = 500\n",
            "      inducing_points = x_train[torch.randperm(x_train.size(0))[:num_inducing_points]]\n",
            "      model = variationalGP(likelihood, mean, kernel, inducing_points)\n",
            "      model = model.to(device) # Move model to device.\n",
            "\n",
            " Inducing GP:\n",
            "    Example:\n",
            "      likelihood = gpytorch.likelihoods.GaussianLikelihood() # Likelihood\n",
            "      mean = gpytorch.means.ConstantMean() # Mean\n",
            "      kernel = gpytorch.kernels.RBFKernel() # Kernel\n",
            "      indices = torch.randperm(x_train.size(0))\n",
            "      inducing_points_amount = 50 # Choose how many inducing points\n",
            "      inducing_points = x_train[indices][:inducing_points_amount]\n",
            "      model = inducingGP(x_train,\n",
            "                                y_train,\n",
            "                                inducing_likelihood,\n",
            "                                inducing_mean,\n",
            "                                inducing_kernel,\n",
            "                                inducing_points)\n",
            "      model = model.to(device) # Move model to device.\n",
            "Drive already mounted at /content/drive; to attempt to forcibly remount, call drive.mount(\"/content/drive\", force_remount=True).\n",
            "/content/drive/MyDrive/Master_Thesis_Alexander\n",
            "Collecting jaxopt\n",
            "  Downloading jaxopt-0.8.3-py3-none-any.whl (172 kB)\n",
            "\u001b[2K     \u001b[90m━━━━━━━━━━━━━━━━━━━━━━━━━━━━━━━━━━━━━━━━\u001b[0m \u001b[32m172.3/172.3 kB\u001b[0m \u001b[31m1.5 MB/s\u001b[0m eta \u001b[36m0:00:00\u001b[0m\n",
            "\u001b[?25hRequirement already satisfied: jax>=0.2.18 in /usr/local/lib/python3.10/dist-packages (from jaxopt) (0.4.26)\n",
            "Requirement already satisfied: jaxlib>=0.1.69 in /usr/local/lib/python3.10/dist-packages (from jaxopt) (0.4.26+cuda12.cudnn89)\n",
            "Requirement already satisfied: numpy>=1.18.4 in /usr/local/lib/python3.10/dist-packages (from jaxopt) (1.25.2)\n",
            "Requirement already satisfied: scipy>=1.0.0 in /usr/local/lib/python3.10/dist-packages (from jaxopt) (1.11.4)\n",
            "Requirement already satisfied: ml-dtypes>=0.2.0 in /usr/local/lib/python3.10/dist-packages (from jax>=0.2.18->jaxopt) (0.2.0)\n",
            "Requirement already satisfied: opt-einsum in /usr/local/lib/python3.10/dist-packages (from jax>=0.2.18->jaxopt) (3.3.0)\n",
            "Installing collected packages: jaxopt\n",
            "Successfully installed jaxopt-0.8.3\n"
          ]
        }
      ]
    },
    {
      "cell_type": "markdown",
      "source": [
        "# Prepare The Data"
      ],
      "metadata": {
        "id": "lgmw_ArDQMs0"
      }
    },
    {
      "cell_type": "code",
      "source": [
        "concrete_data = df_Concrete # df_Concrete is defined in ../datasets/concrete.ipynb\n",
        "# Concrete compressive strength(last feature) is the regression problem\n",
        "x_concrete, y_concrete = concrete_data.iloc[:, :-1].to_numpy() , concrete_data.iloc[:, -1].to_numpy()\n",
        "\n",
        "x_train_concrete, x_test_concrete, y_train_concrete, y_test_concrete = train_test_split(x_concrete,\n",
        "                                                                                        y_concrete,\n",
        "                                                                                        test_size=0.2,\n",
        "                                                                                        random_state=666)\n",
        "# Transform into tensors\n",
        "x_train_concrete, x_test_concrete, y_train_concrete, y_test_concrete = (\n",
        "torch.from_numpy(x_train_concrete).float(), torch.from_numpy(x_test_concrete).float(),\n",
        "torch.from_numpy(y_train_concrete).float(), torch.from_numpy(y_test_concrete).float())\n",
        "\n",
        "# Standardized data\n",
        "scaler = StandardScaler()\n",
        "x_train_concrete_standardized = torch.from_numpy(scaler.fit_transform(x_train_concrete)).float()\n",
        "# Use the same scaler that was used on training data\n",
        "x_test_concrete_standardized = torch.from_numpy(scaler.transform(x_test_concrete)).float()\n",
        "\n",
        "if torch.cuda.is_available():\n",
        "    x_train_concrete, y_train_concrete, x_test_concrete, y_test_concrete, x_train_concrete_standardized, x_test_concrete_standardized = (\n",
        "    x_train_concrete.cuda(), y_train_concrete.cuda(), x_test_concrete.cuda(), y_test_concrete.cuda(),\n",
        "    x_train_concrete_standardized.cuda(), x_test_concrete_standardized.cuda())\n",
        "\n",
        "# Train data into batches\n",
        "train_dataset_concrete = TensorDataset(x_train_concrete, y_train_concrete)\n",
        "train_loader_concrete = DataLoader(train_dataset_concrete, batch_size=500, shuffle=True)\n",
        "\n",
        "# Test data into batches\n",
        "test_dataset_concrete = TensorDataset(x_test_concrete, y_test_concrete)\n",
        "test_loader_concrete = DataLoader(test_dataset_concrete, batch_size=500, shuffle=False)\n",
        "\n",
        "# Standardized batches\n",
        "# Train data into batches\n",
        "train_dataset_concrete_standardized = TensorDataset(x_train_concrete_standardized, y_train_concrete)\n",
        "train_loader_concrete_standardized = DataLoader(train_dataset_concrete_standardized, batch_size=500, shuffle=True)\n",
        "\n",
        "# Test data into batches\n",
        "test_dataset_concrete_standardized = TensorDataset(x_test_concrete_standardized, y_test_concrete)\n",
        "test_loader_concrete_standardized = DataLoader(test_dataset_concrete_standardized, batch_size=500, shuffle=False)"
      ],
      "metadata": {
        "id": "QyOMKdh1QMyQ"
      },
      "execution_count": 3,
      "outputs": []
    },
    {
      "cell_type": "markdown",
      "source": [
        "# Define the KISS-GP Model"
      ],
      "metadata": {
        "id": "RNzQmcE1YzXc"
      }
    },
    {
      "cell_type": "code",
      "source": [
        "KISSGP_likelihood_concrete = gpytorch.likelihoods.GaussianLikelihood() # Likelihood\n",
        "KISSGP_mean_concrete = gpytorch.means.ConstantMean() # Mean\n",
        "KISSGP_kernel_concrete = gpytorch.kernels.RBFKernel() # Kernel\n",
        "KISSGP_model_concrete = KISSGP_NDim(x_train_concrete,\n",
        "                                 y_train_concrete,\n",
        "                                 KISSGP_likelihood_concrete,\n",
        "                                 KISSGP_mean_concrete,\n",
        "                                 KISSGP_kernel_concrete) # KISSGP defined in utils/Models.ipynb\n",
        "KISSGP_model_concrete = KISSGP_model_concrete.to(device) # Move model to device.\n",
        "\n",
        "# One with standardized features\n",
        "KISSGP_likelihood_concrete_standardized = gpytorch.likelihoods.GaussianLikelihood() # Likelihood\n",
        "KISSGP_mean_concrete_standardized = gpytorch.means.ConstantMean() # Mean\n",
        "KISSGP_kernel_concrete_standardized = gpytorch.kernels.RBFKernel() # Kernel\n",
        "KISSGP_model_concrete_standardized = KISSGP_NDim(x_train_concrete_standardized,\n",
        "                                              y_train_concrete,\n",
        "                                              KISSGP_likelihood_concrete_standardized,\n",
        "                                              KISSGP_mean_concrete_standardized,\n",
        "                                              KISSGP_kernel_concrete_standardized) # KISSGP defined in utils/Models.ipynb\n",
        "KISSGP_model_concrete_standardized = KISSGP_model_concrete_standardized.to(device) # Move model to device."
      ],
      "metadata": {
        "id": "loo9_BjvY294"
      },
      "execution_count": 4,
      "outputs": []
    },
    {
      "cell_type": "markdown",
      "source": [
        "# Train and Evaluate the KISS-GP Model"
      ],
      "metadata": {
        "id": "Tjd0pJXrZYLz"
      }
    },
    {
      "cell_type": "code",
      "source": [
        "train_time_KISSGP_concrete = train(KISSGP_model_concrete,\n",
        "                          KISSGP_likelihood_concrete,\n",
        "                          x_train_concrete,\n",
        "                          y_train_concrete,\n",
        "                          training_iter= 80) # train is defined in utils/functions.ipynb\n",
        "# Standardized version\n",
        "train_time_KISSGP_concrete_standardized = train(KISSGP_model_concrete_standardized,\n",
        "                                       KISSGP_likelihood_concrete_standardized,\n",
        "                                       x_train_concrete_standardized,\n",
        "                                       y_train_concrete,\n",
        "                                       training_iter= 80) # train is defined in utils/functions.ipynb"
      ],
      "metadata": {
        "id": "hvrQrtb-ZYjk",
        "colab": {
          "base_uri": "https://localhost:8080/",
          "height": 573
        },
        "outputId": "42b4446f-8cf1-4471-f5df-6a0a23068a4f"
      },
      "execution_count": 5,
      "outputs": [
        {
          "output_type": "stream",
          "name": "stderr",
          "text": [
            "/usr/local/lib/python3.10/dist-packages/linear_operator/utils/sparse.py:51: UserWarning: TypedStorage is deprecated. It will be removed in the future and UntypedStorage will be the only storage class. This should only matter to you if you are using storages directly.  To access UntypedStorage directly, use tensor.untyped_storage() instead of tensor.storage()\n",
            "  if nonzero_indices.storage():\n",
            "/usr/local/lib/python3.10/dist-packages/linear_operator/utils/sparse.py:66: UserWarning: The torch.cuda.*DtypeTensor constructors are no longer recommended. It's best to use methods such as torch.tensor(data, dtype=*, device='cuda') to create tensors. (Triggered internally at ../torch/csrc/tensor/python_tensor.cpp:83.)\n",
            "  res = cls(index_tensor, value_tensor, interp_size)\n",
            "/usr/local/lib/python3.10/dist-packages/linear_operator/utils/sparse.py:66: UserWarning: torch.sparse.SparseTensor(indices, values, shape, *, device=) is deprecated.  Please use torch.sparse_coo_tensor(indices, values, shape, dtype=, device=). (Triggered internally at ../torch/csrc/utils/tensor_new.cpp:618.)\n",
            "  res = cls(index_tensor, value_tensor, interp_size)\n"
          ]
        },
        {
          "output_type": "display_data",
          "data": {
            "text/plain": [
              "<Figure size 640x480 with 1 Axes>"
            ],
            "image/png": "[encoded data removed]"
          },
          "metadata": {}
        }
      ]
    },
    {
      "cell_type": "code",
      "source": [
        "with torch.no_grad(), gpytorch.settings.fast_pred_var():\n",
        "  predictions_KISSGP_concrete = predict(KISSGP_model_concrete, KISSGP_likelihood_concrete,\n",
        "                                     x_test_concrete) # predict is defined in utils/functions.ipynb\n",
        "  RMSE_KISSGP_concrete, NLPD_KISSGP_concrete, PICP_KISSGP_concrete, MPIW_KISSGP_power = error_metrics(\n",
        "      x_test_concrete,\n",
        "      y_test_concrete,\n",
        "      predictions_KISSGP_concrete.mean,\n",
        "      predictions_KISSGP_concrete.variance)# error_metrics defined in utils/functions.ipynb\n",
        "\n",
        "\n",
        "  # Standardized version\n",
        "  predictions_KISSGP_concrete_standardized = predict(KISSGP_model_concrete_standardized, KISSGP_likelihood_concrete_standardized,\n",
        "                                                  x_test_concrete_standardized) # predict is defined in utils/functions.ipynb\n",
        "\n",
        "  RMSE_KISSGP_concrete_standardized, NLPD_KISSGP_concrete_standardized, PICP_KISSGP_concrete_standardized, MPIW_KISSGP_concrete_standardized = error_metrics(\n",
        "      x_test_concrete_standardized,\n",
        "      y_test_concrete,\n",
        "      predictions_KISSGP_concrete_standardized.mean,\n",
        "      predictions_KISSGP_concrete_standardized.variance)# error_metrics defined in utils/functions.ipynb\n",
        "\n",
        "\n",
        "  print(\"RMSE KISS-GP: \",RMSE_KISSGP_concrete)\n",
        "  print(\"NLPD KISS-GP: \",NLPD_KISSGP_concrete)\n",
        "  print(\"PICP KISS-GP: \",PICP_KISSGP_concrete)\n",
        "  print(\"MPIW KISS-GP: \",MPIW_KISSGP_concrete)\n",
        "  print(\"Time KISS-GP: \", train_time_KISSGP_concrete)\n",
        "\n",
        "  print(\"RMSE KISS-GP Standardized: \",RMSE_KISSGP_concrete_standardized)\n",
        "  print(\"NLPD KISS-GP Standardized: \",NLPD_KISSGP_concrete_standardized)\n",
        "  print(\"PICP KISS-GP Standardized: \",PICP_KISSGP_concrete_standardized)\n",
        "  print(\"MPIW KISS-GP Standardized: \",MPIW_KISSGP_concrete_standardized)\n",
        "  print(\"Time KISS-GP Standardized: \", train_time_KISSGP_concrete_standardized)"
      ],
      "metadata": {
        "colab": {
          "base_uri": "https://localhost:8080/",
          "height": 478
        },
        "id": "egSNg8fAaCVQ",
        "outputId": "98e34385-b17c-4e38-dbb4-49409404dbbb"
      },
      "execution_count": 7,
      "outputs": [
        {
          "output_type": "error",
          "ename": "TypeError",
          "evalue": "can't convert cuda:0 device type tensor to numpy. Use Tensor.cpu() to copy the tensor to host memory first.",
          "traceback": [
            "\u001b[0;31m---------------------------------------------------------------------------\u001b[0m",
            "\u001b[0;31mTypeError\u001b[0m                                 Traceback (most recent call last)",
            "\u001b[0;32m<ipython-input-7-6c9c7b90324c>\u001b[0m in \u001b[0;36m<cell line: 1>\u001b[0;34m()\u001b[0m\n\u001b[1;32m      2\u001b[0m   predictions_KISSGP_concrete = predict(KISSGP_model_concrete, KISSGP_likelihood_concrete,\n\u001b[1;32m      3\u001b[0m                                      x_test_concrete) # predict is defined in utils/functions.ipynb\n\u001b[0;32m----> 4\u001b[0;31m   RMSE_KISSGP_concrete, NLPD_KISSGP_concrete, PICP_KISSGP_concrete, MPIW_KISSGP_power = error_metrics(\n\u001b[0m\u001b[1;32m      5\u001b[0m       \u001b[0mx_test_concrete\u001b[0m\u001b[0;34m,\u001b[0m\u001b[0;34m\u001b[0m\u001b[0;34m\u001b[0m\u001b[0m\n\u001b[1;32m      6\u001b[0m       \u001b[0my_test_concrete\u001b[0m\u001b[0;34m,\u001b[0m\u001b[0;34m\u001b[0m\u001b[0;34m\u001b[0m\u001b[0m\n",
            "\u001b[0;32m<ipython-input-2-cc2cab247c02>\u001b[0m in \u001b[0;36merror_metrics\u001b[0;34m(x_test, y_test, predictions, variances, confidence_level, scaler)\u001b[0m\n\u001b[1;32m     17\u001b[0m     \u001b[0;31m# Negative Log Predictive Density (NLPD) ---\u001b[0m\u001b[0;34m\u001b[0m\u001b[0;34m\u001b[0m\u001b[0m\n\u001b[1;32m     18\u001b[0m \u001b[0;34m\u001b[0m\u001b[0m\n\u001b[0;32m---> 19\u001b[0;31m     NLPD = torch.mean(0.5 * (np.log(2 * np.pi * variances))\n\u001b[0m\u001b[1;32m     20\u001b[0m      + ((predictions - y_test) ** 2 / (variances*2)))\n\u001b[1;32m     21\u001b[0m     \u001b[0;31m# Prediction Interval Coverage Probability (PICP) ---\u001b[0m\u001b[0;34m\u001b[0m\u001b[0;34m\u001b[0m\u001b[0m\n",
            "\u001b[0;32m/usr/local/lib/python3.10/dist-packages/torch/_tensor.py\u001b[0m in \u001b[0;36m__array__\u001b[0;34m(self, dtype)\u001b[0m\n\u001b[1;32m   1060\u001b[0m             \u001b[0;32mreturn\u001b[0m \u001b[0mhandle_torch_function\u001b[0m\u001b[0;34m(\u001b[0m\u001b[0mTensor\u001b[0m\u001b[0;34m.\u001b[0m\u001b[0m__array__\u001b[0m\u001b[0;34m,\u001b[0m \u001b[0;34m(\u001b[0m\u001b[0mself\u001b[0m\u001b[0;34m,\u001b[0m\u001b[0;34m)\u001b[0m\u001b[0;34m,\u001b[0m \u001b[0mself\u001b[0m\u001b[0;34m,\u001b[0m \u001b[0mdtype\u001b[0m\u001b[0;34m=\u001b[0m\u001b[0mdtype\u001b[0m\u001b[0;34m)\u001b[0m\u001b[0;34m\u001b[0m\u001b[0;34m\u001b[0m\u001b[0m\n\u001b[1;32m   1061\u001b[0m         \u001b[0;32mif\u001b[0m \u001b[0mdtype\u001b[0m \u001b[0;32mis\u001b[0m \u001b[0;32mNone\u001b[0m\u001b[0;34m:\u001b[0m\u001b[0;34m\u001b[0m\u001b[0;34m\u001b[0m\u001b[0m\n\u001b[0;32m-> 1062\u001b[0;31m             \u001b[0;32mreturn\u001b[0m \u001b[0mself\u001b[0m\u001b[0;34m.\u001b[0m\u001b[0mnumpy\u001b[0m\u001b[0;34m(\u001b[0m\u001b[0;34m)\u001b[0m\u001b[0;34m\u001b[0m\u001b[0;34m\u001b[0m\u001b[0m\n\u001b[0m\u001b[1;32m   1063\u001b[0m         \u001b[0;32melse\u001b[0m\u001b[0;34m:\u001b[0m\u001b[0;34m\u001b[0m\u001b[0;34m\u001b[0m\u001b[0m\n\u001b[1;32m   1064\u001b[0m             \u001b[0;32mreturn\u001b[0m \u001b[0mself\u001b[0m\u001b[0;34m.\u001b[0m\u001b[0mnumpy\u001b[0m\u001b[0;34m(\u001b[0m\u001b[0;34m)\u001b[0m\u001b[0;34m.\u001b[0m\u001b[0mastype\u001b[0m\u001b[0;34m(\u001b[0m\u001b[0mdtype\u001b[0m\u001b[0;34m,\u001b[0m \u001b[0mcopy\u001b[0m\u001b[0;34m=\u001b[0m\u001b[0;32mFalse\u001b[0m\u001b[0;34m)\u001b[0m\u001b[0;34m\u001b[0m\u001b[0;34m\u001b[0m\u001b[0m\n",
            "\u001b[0;31mTypeError\u001b[0m: can't convert cuda:0 device type tensor to numpy. Use Tensor.cpu() to copy the tensor to host memory first."
          ]
        }
      ]
    },
    {
      "cell_type": "markdown",
      "source": [
        "# Variational Distribution Model"
      ],
      "metadata": {
        "id": "SdZbLLo4Tads"
      }
    },
    {
      "cell_type": "code",
      "source": [
        "variational_likelihood_concrete = gpytorch.likelihoods.GaussianLikelihood()\n",
        "variational_mean_concrete = gpytorch.means.ConstantMean()\n",
        "variational_kernel_concrete = gpytorch.kernels.RBFKernel()\n",
        "n_inducing_points = 2000\n",
        "# Generate a tensor of random indices\n",
        "indices = torch.randperm(x_train_concrete.size(0))\n",
        "# Select N random rows\n",
        "inducing_points = x_train_concrete[indices][:n_inducing_points]\n",
        "variational_model_concrete = variationalGP(variational_likelihood_concrete,\n",
        "                                        variational_mean_concrete,\n",
        "                                        variational_kernel_concrete,\n",
        "                                        inducing_points) # InducingGP defined in utils/models.ipynb\n",
        "variational_model_concrete = variational_model_concrete.to(device) # Move model to device, defined in utils/models.ipynb\n",
        "\n",
        "# Standardized version\n",
        "variational_likelihood_concrete_standardized = gpytorch.likelihoods.GaussianLikelihood()\n",
        "variational_mean_concrete_standardized = gpytorch.means.ConstantMean()\n",
        "variational_kernel_concrete_standardized = gpytorch.kernels.RBFKernel()\n",
        "n_inducing_points = 4500\n",
        "# Generate a tensor of random indices\n",
        "indices = torch.randperm(x_train_concrete_standardized.size(0))\n",
        "# Select N random rows\n",
        "inducing_points_standardized = x_train_concrete_standardized[indices][:n_inducing_points]\n",
        "variational_model_concrete_standardized = variationalGP(variational_likelihood_concrete_standardized,\n",
        "                                               variational_mean_concrete_standardized,\n",
        "                                               variational_kernel_concrete_standardized,\n",
        "                                               inducing_points_standardized) # InducingGP defined in utils/models.ipynb\n",
        "variational_model_concrete_standardized = variational_model_concrete_standardized.to(device) # Move model to device, defined in utils/models.ipynb"
      ],
      "metadata": {
        "id": "-EFF55npTdVw"
      },
      "execution_count": null,
      "outputs": []
    },
    {
      "cell_type": "markdown",
      "source": [
        "# Train and Evaluate Variational Model"
      ],
      "metadata": {
        "id": "GFyzcx15TfxA"
      }
    },
    {
      "cell_type": "code",
      "source": [
        "# Use train_loader_concrete\n",
        "train_time_variational_concrete = train_ELBO(variational_model_concrete,\n",
        "                                 variational_likelihood_concrete,\n",
        "                                 x_train_concrete,\n",
        "                                 y_train_concrete,\n",
        "                                 training_iter= 80,\n",
        "                                 train_loader=train_loader_concrete) # train is defined in utils/functions.ipynb\n",
        "\n",
        "# Standardized version, train_loader_concrete_standardized\n",
        "train_time_variational_concrete_standardized = train_ELBO(variational_model_concrete_standardized,\n",
        "                                              variational_likelihood_concrete_standardized,\n",
        "                                              x_train_concrete_standardized,\n",
        "                                              y_train_concrete,\n",
        "                                              training_iter= 80,\n",
        "                                              train_loader=train_loader_concrete_standardized) # train is defined in utils/functions.ipynb"
      ],
      "metadata": {
        "id": "rBQ-Lnk8TkLG"
      },
      "execution_count": null,
      "outputs": []
    },
    {
      "cell_type": "code",
      "source": [
        "with torch.no_grad(), gpytorch.settings.fast_pred_var():\n",
        "  # predict is defined in utils/functions.ipynb\n",
        "  predictions_variational_concrete = predict(variational_model_concrete, variational_likelihood_concrete, x_test_concrete)\n",
        "\n",
        "  RMSE_variational_concrete, NLPD_variational_concrete, PICP_variational_concrete, MPIW_variational_concrete = error_metrics(\n",
        "      x_test_concrete,\n",
        "      y_test_concrete,\n",
        "      predictions_variational_concrete.mean,\n",
        "      predictions_variational_concrete.variance)# error_metrics defined in utils/functions.ipynb\n",
        "  print(\"RMSE variational Model: \",RMSE_variational_concrete)\n",
        "  print(\"NLPD variational Model: \",NLPD_variational_concrete)\n",
        "  print(\"PICP variational Model: \",PICP_variational_concrete)\n",
        "  print(\"MPIW variational Model: \",MPIW_variational_concrete)\n",
        "  print(\"Time variational Model: \", train_time_variational_concrete)\n",
        "\n",
        "  # Standardized version\n",
        "  predictions_variational_concrete_standardized = predict(variational_model_concrete_standardized,\n",
        "                                       variational_likelihood_concrete_standardized,\n",
        "                                       x_test_concrete_standardized)\n",
        "\n",
        "  RMSE_variational_concrete_standardized, NLPD_variational_concrete_standardized, PICP_variational_concrete_standardized, MPIW_variational_concrete_standardized = error_metrics(\n",
        "      x_test_concrete_standardized,\n",
        "      y_test_concrete,\n",
        "      predictions_variational_concrete_standardized.mean,\n",
        "      predictions_variational_concrete_standardized.variance)# error_metrics defined in utils/functions.ipynb\n",
        "  print(\"RMSE variational Model Standardized: \",RMSE_variational_concrete_standardized)\n",
        "  print(\"NLPD variational Model Standardized: \",NLPD_variational_concrete_standardized)\n",
        "  print(\"PICP variational Model Standardized: \",PICP_variational_concrete_standardized)\n",
        "  print(\"MPIW variational Model Standardized: \",MPIW_variational_concrete_standardized)\n",
        "  print(\"Time variational Model Standardized: \", train_time_variationalStandardized_concrete)"
      ],
      "metadata": {
        "id": "1qPvdVs1ToC8"
      },
      "execution_count": null,
      "outputs": []
    },
    {
      "cell_type": "markdown",
      "source": [
        "# Inducing Points Model"
      ],
      "metadata": {
        "id": "qm-M2OVkUODH"
      }
    },
    {
      "cell_type": "code",
      "source": [
        "inducing_likelihood_concrete = gpytorch.likelihoods.GaussianLikelihood() # Likelihood\n",
        "inducing_mean_concrete = gpytorch.means.ConstantMean() # Mean\n",
        "inducing_kernel_concrete = gpytorch.kernels.RBFKernel() # Kernel\n",
        "# Choose random inital inducing points\n",
        "# Generate a tensor of random indices\n",
        "indices = torch.randperm(x_train_concrete.size(0))\n",
        "# Select N random rows\n",
        "inducing_points_amount = 4500 # Around half of the points\n",
        "inducing_points = x_train_concrete[indices][:n_inducing_points]\n",
        "inducing_model_concrete = inducingGP(x_train_concrete,\n",
        "                                 y_train_concrete,\n",
        "                                 inducing_likelihood_concrete,\n",
        "                                 inducing_mean_concrete,\n",
        "                                 inducing_kernel_concrete,\n",
        "                                 inducing_points) # inducingGP defined in utils/Models.ipynb\n",
        "\n",
        "inducing_model_concrete = inducing_model_concrete.to(device) # Move model to device.\n",
        "\n",
        "# One with standardized features\n",
        "inducing_likelihood_concrete_standardized = gpytorch.likelihoods.GaussianLikelihood() # Likelihood\n",
        "inducing_mean_concrete_standardized = gpytorch.means.ConstantMean() # Mean\n",
        "inducing_kernel_concrete_standardized = gpytorch.kernels.RBFKernel() # Kernel\n",
        "# Generate a tensor of random indices\n",
        "indices = torch.randperm(x_train_concrete_standardized.size(0))\n",
        "# Select N random rows\n",
        "inducing_points_standardized = x_train_concrete_standardized[indices][:inducing_points_amount]\n",
        "inducing_model_concrete_standardized = inducingGP(x_train_concrete_standardized,\n",
        "                                              y_train_concrete,\n",
        "                                              inducing_likelihood_concrete_standardized,\n",
        "                                              inducing_mean_concrete_standardized,\n",
        "                                              inducing_kernel_concrete_standardized,\n",
        "                                              inducing_points_standardized) # inducingGP defined in utils/Models.ipynb\n",
        "\n",
        "inducing_model_concrete_standardized = inducing_model_concrete_standardized.to(device) # Move model to device."
      ],
      "metadata": {
        "id": "E7QcyBLeUPs7"
      },
      "execution_count": null,
      "outputs": []
    },
    {
      "cell_type": "markdown",
      "source": [
        "# Train and Evaluate Inducing Model"
      ],
      "metadata": {
        "id": "9yuE4vIpUWCK"
      }
    },
    {
      "cell_type": "code",
      "source": [
        "train_time_inducing_concrete = train(inducing_model_concrete,\n",
        "                          inducing_likelihood_concrete,\n",
        "                          x_train_concrete,\n",
        "                          y_train_concrete,\n",
        "                          training_iter= 80) # train is defined in utils/functions.ipynb\n",
        "# Standardized version\n",
        "train_time_inducing_concrete_standardized = train(inducing_model_concrete_standardized,\n",
        "                                       inducing_likelihood_concrete_standardized,\n",
        "                                       x_train_concrete_standardized,\n",
        "                                       y_train_concrete,\n",
        "                                       training_iter= 80) # train is defined in utils/functions.ipynb"
      ],
      "metadata": {
        "id": "_oIbkwzMUYLj"
      },
      "execution_count": null,
      "outputs": []
    },
    {
      "cell_type": "code",
      "source": [
        "with torch.no_grad(), gpytorch.settings.fast_pred_var():\n",
        "  predictions_inducing_concrete = predict(inducing_model_concrete, inducing_likelihood_concrete,\n",
        "                                     x_test_concrete) # predict is defined in utils/functions.ipynb\n",
        "  RMSE_inducing_concrete, NLPD_inducing_concrete, PICP_inducing_concrete, MPIW_inducing_concrete = error_metrics(\n",
        "      x_test_concrete,\n",
        "      y_test_concrete,\n",
        "      predictions_inducing_concrete.mean,\n",
        "      predictions_inducing_concrete.variance)# error_metrics defined in utils/functions.ipynb\n",
        "\n",
        "\n",
        "  # Standardized version\n",
        "  predictions_inducing_concrete_standardized = predict(inducing_model_concrete_standardized, inducing_likelihood_concrete_standardized,\n",
        "                                                  x_test_concrete_standardized) # predict is defined in utils/functions.ipynb\n",
        "\n",
        "  RMSE_inducing_concrete_standardized, NLPD_inducing_concrete_standardized, PICP_inducing_concrete_standardized, MPIW_inducing_concrete_standardized = error_metrics(\n",
        "      x_test_concrete_standardized,\n",
        "      y_test_concrete,\n",
        "      predictions_inducing_concrete_standardized.mean,\n",
        "      predictions_inducing_concrete_standardized.variance)# error_metrics defined in utils/functions.ipynb\n",
        "\n",
        "\n",
        "  print(\"RMSE inducing: \",RMSE_inducing_concrete)\n",
        "  print(\"NLPD inducing: \",NLPD_inducing_concrete)\n",
        "  print(\"PICP inducing: \",PICP_inducing_concrete)\n",
        "  print(\"MPIW inducing: \",MPIW_inducing_concrete)\n",
        "  print(\"Time inducing: \", inducing_concrete_time)\n",
        "\n",
        "  print(\"RMSE inducing Standardized: \",RMSE_inducing_concrete_standardized)\n",
        "  print(\"NLPD inducing Standardized: \",NLPD_inducing_concrete_standardized)\n",
        "  print(\"PICP inducing Standardized: \",PICP_inducing_concrete_standardized)\n",
        "  print(\"MPIW inducing Standardized: \",MPIW_inducing_concrete_standardized)\n",
        "  print(\"Time inducing Standardized: \", inducing_concrete_time_standardized)"
      ],
      "metadata": {
        "id": "nMvgKlhOUbRy"
      },
      "execution_count": null,
      "outputs": []
    },
    {
      "cell_type": "markdown",
      "source": [
        "# Display Results"
      ],
      "metadata": {
        "id": "g2ULULhQVASI"
      }
    },
    {
      "cell_type": "code",
      "source": [
        "# Training times\n",
        "models = [\"KISS-GP\", \"Variational\", \"Inducing\"]\n",
        "times_concrete = [train_time_KISSGP_concrete_standardized, train_time_variational_concrete_standardized, train_time_inducing_concrete_standardized]\n",
        "plot_bar(models, times_concrete, \"Training Time on Concrete Dataset\", \"Models\", \"Training Time(s)\") # plot_bar defined in utils/function.ipynb"
      ],
      "metadata": {
        "id": "zBs2fEmzVC03"
      },
      "execution_count": null,
      "outputs": []
    },
    {
      "cell_type": "code",
      "source": [
        "# RMSE\n",
        "models = [\"KISS-GP\", \"Variational\", \"Inducing\"]\n",
        "RMSE_concrete = [RMSE_KISSGP_concrete_standardized, RMSE_variational_concrete_standardized, RMSE_inducing_concrete_standardized]\n",
        "plot_bar(models, RMSE_concrete, \"RMSE on Concrete Dataset\", \"Models\", \"RMSE\") # plot_bar defined in utils/function.ipynb"
      ],
      "metadata": {
        "id": "uchEzEnLVFva"
      },
      "execution_count": null,
      "outputs": []
    },
    {
      "cell_type": "code",
      "source": [
        "# NLPD\n",
        "models = [\"KISS-GP\", \"Variational\", \"Inducing\"]\n",
        "NLPD_concrete = [NLPD_KISSGP_concrete_standardized, NLPD_variational_concrete_standardized, NLPD_inducing_concrete_standardized]\n",
        "plot_bar(models, NLPD_concrete, \"NLPD on Concrete Dataset\", \"Models\", \"NLPD\") # plot_bar defined in utils/function.ipynb"
      ],
      "metadata": {
        "id": "_G6B-3ltVF5x"
      },
      "execution_count": null,
      "outputs": []
    },
    {
      "cell_type": "code",
      "source": [
        "# PICP\n",
        "models = [\"KISS-GP\", \"Variational\", \"Inducing\"]\n",
        "PICP_concrete = [PICP_KISSGP_concrete_standardized, PICP_variational_concrete_standardized, PICP_inducing_concrete_standardized]\n",
        "plot_bar(models, PICP_concrete, \"PICP on Concrete Dataset\", \"Models\", \"PICP\") # plot_bar defined in utils/function.ipynb"
      ],
      "metadata": {
        "id": "kSiJHwgNVGEp"
      },
      "execution_count": null,
      "outputs": []
    },
    {
      "cell_type": "code",
      "source": [
        "# MPIW\n",
        "models = [\"KISS-GP\", \"Variational\", \"Inducing\"]\n",
        "MPIW_concrete = [MPIW_KISSGP_concrete_standardized, MPIW_variational_concrete_standardized, MPIW_inducing_concrete_standardized]\n",
        "plot_bar(models, MPIW_concrete, \"MPIW on Concrete Dataset\", \"Models\", \"MPIW\") # plot_bar defined in utils/function.ipynb"
      ],
      "metadata": {
        "id": "N97Gak0QVGMl"
      },
      "execution_count": null,
      "outputs": []
    },
    {
      "cell_type": "code",
      "source": [
        "# Create table to summarize the best models\n",
        "values_best = [\n",
        "    times_concrete,\n",
        "    RMSE_concrete,\n",
        "    NLPD_concrete,\n",
        "    PICP_concrete,\n",
        "    MPIW_concrete\n",
        "]\n",
        "\n",
        "# Start the tabular environment\n",
        "latex_table = \"\\\\begin{tabular}{\" + \"c\" * (len(models) + 1) + \"}\\n\"\n",
        "\n",
        "# Add the model names to the table\n",
        "latex_table += \" & \" + \" & \".join(models) + \" \\\\\\\\\\n\\\\hline\\n\"\n",
        "\n",
        "# Add the values to the table\n",
        "for i in range(len(values_best)):\n",
        "    latex_table += \"Array\" + str(i+1) + \" & \" + \" & \".join(map(str, values_best[i])) + \" \\\\\\\\\\n\"\n",
        "\n",
        "# End the tabular environment\n",
        "latex_table += \"\\\\end{tabular}\"\n",
        "\n",
        "print(latex_table)"
      ],
      "metadata": {
        "id": "8SQUVrdfVMNi"
      },
      "execution_count": null,
      "outputs": []
    },
    {
      "cell_type": "code",
      "source": [
        "# Standardized or not?\n",
        "# Training Time\n",
        "models_compare = [\"KISS-GP\", \"KISS-GP_S\", \"Variational\", \"Variational_S\",  \"Inducing\", \"Inducing_S\"]\n",
        "time_compare = [train_time_KISSGP_concrete, train_time_KISSGP_concrete_standardized,\n",
        "                train_time_variational_concrete, train_time_variational_concrete_standardized,\n",
        "                train_time_inducing_concrete, train_time_inducing_concrete_standardized]\n",
        "plot_bar(models_compare, time_compare, \"Training Time on Concrete Dataset\", \"Models\", \"Training Time(s)\") # plot_bar defined in utils/function.ipynb"
      ],
      "metadata": {
        "id": "65FGVM4hVN82"
      },
      "execution_count": null,
      "outputs": []
    },
    {
      "cell_type": "code",
      "source": [
        "# Standardized or not?\n",
        "# RMSE\n",
        "models_compare = [\"KISS-GP\", \"KISS-GP_S\", \"Variational\", \"Variational_S\",  \"Inducing\", \"Inducing_S\"]\n",
        "RMSE_compare = [RMSE_KISSGP_concrete, RMSE_KISSGP_concrete_standardized,\n",
        "                RMSE_variational_concrete, RMSE_variational_concrete_standardized,\n",
        "                RMSE_inducing_concrete, RMSE_inducing_concrete_standardized]\n",
        "plot_bar(models_compare, RMSE_compare, \"RMSE on Concrete Dataset\", \"Models\", \"RMSE\") # plot_bar defined in utils/function.ipynb"
      ],
      "metadata": {
        "id": "Kg67LIvHVPPb"
      },
      "execution_count": null,
      "outputs": []
    },
    {
      "cell_type": "code",
      "source": [
        "# Standardized or not?\n",
        "# NLPD\n",
        "models_compare = [\"KISS-GP\", \"KISS-GP_S\", \"Variational\", \"Variational_S\",  \"Inducing\", \"Inducing_S\"]\n",
        "NLPD_compare = [NLPD_KISSGP_concrete, NLPD_KISSGP_concrete_standardized,\n",
        "                NLPD_variational_concrete, NLPD_variational_concrete_standardized,\n",
        "                NLPD_inducing_concrete, NLPD_inducing_concrete_standardized]\n",
        "plot_bar(models_compare, NLPD_compare, \"NLPD on Concrete Dataset\", \"Models\", \"NLPD\") # plot_bar defined in utils/function.ipynb"
      ],
      "metadata": {
        "id": "megi0M2fVQep"
      },
      "execution_count": null,
      "outputs": []
    },
    {
      "cell_type": "code",
      "source": [
        "# Standardized or not?\n",
        "# PICP\n",
        "models_compare = [\"KISS-GP\", \"KISS-GP_S\", \"Variational\", \"Variational_S\",  \"Inducing\", \"Inducing_S\"]\n",
        "PICP_compare = [PICP_KISSGP_concrete, PICP_KISSGP_concrete_standardized,\n",
        "                PICP_variational_concrete, PICP_variational_concrete_standardized,\n",
        "                PICP_inducing_concrete, PICP_inducing_concrete_standardized]\n",
        "plot_bar(models_compare, PICP_compare, \"PICP on Concrete Dataset\", \"Models\", \"PICP\") # plot_bar defined in utils/function.ipynb"
      ],
      "metadata": {
        "id": "1KX4yxjgVRzm"
      },
      "execution_count": null,
      "outputs": []
    },
    {
      "cell_type": "code",
      "source": [
        "# Standardized or not?\n",
        "# MPIW\n",
        "models_compare = [\"KISS-GP\", \"KISS-GP_S\", \"Variational\", \"Variational_S\",  \"Inducing\", \"Inducing_S\"]\n",
        "MPIW_compare = [MPIW_KISSGP_concrete, MPIW_KISSGP_concrete_standardized,\n",
        "                MPIW_variational_concrete, MPIW_variational_concrete_standardized,\n",
        "                MPIW_inducing_concrete, MPIW_inducing_concrete_standardized]\n",
        "plot_bar(models_compare, MPIW_compare, \"MPIW on Concrete Dataset\", \"Models\", \"MPIW\") # plot_bar defined in utils/function.ipynb"
      ],
      "metadata": {
        "id": "0q_ucEhCVTJB"
      },
      "execution_count": null,
      "outputs": []
    },
    {
      "cell_type": "code",
      "source": [
        "# Create table to summarize differences between standardized and not, in Latex\n",
        "\n",
        "values_compare = [\n",
        "    time_compare,\n",
        "    RMSE_compare,\n",
        "    NLPD_compare,\n",
        "    PICP_compare,\n",
        "    MPIW_compare\n",
        "]\n",
        "\n",
        "# Start the tabular environment\n",
        "latex_table = \"\\\\begin{tabular}{\" + \"c\" * (len(models_compare) + 1) + \"}\\n\"\n",
        "\n",
        "# Add the model names to the table\n",
        "latex_table += \" & \" + \" & \".join(models_compare) + \" \\\\\\\\\\n\\\\hline\\n\"\n",
        "\n",
        "# Add the values to the table\n",
        "for i in range(len(values_compare)):\n",
        "    latex_table += \"Array\" + str(i+1) + \" & \" + \" & \".join(map(str, values_compare[i])) + \" \\\\\\\\\\n\"\n",
        "\n",
        "# End the tabular environment\n",
        "latex_table += \"\\\\end{tabular}\"\n",
        "\n",
        "print(latex_table)\n"
      ],
      "metadata": {
        "id": "TWkIwutJVUdg"
      },
      "execution_count": null,
      "outputs": []
    }
  ]
}