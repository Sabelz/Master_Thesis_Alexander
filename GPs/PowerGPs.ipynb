{
  "nbformat": 4,
  "nbformat_minor": 0,
  "metadata": {
    "colab": {
      "provenance": [],
      "gpuType": "T4",
      "authorship_tag": "ABX9TyOk3FhrgoiN3hYOA+SFSwYJ",
      "include_colab_link": true
    },
    "kernelspec": {
      "name": "python3",
      "display_name": "Python 3"
    },
    "language_info": {
      "name": "python"
    },
    "accelerator": "GPU"
  },
  "cells": [
    {
      "cell_type": "markdown",
      "metadata": {
        "id": "view-in-github",
        "colab_type": "text"
      },
      "source": [
        "<a href=\"https://colab.research.google.com/github/Sabelz/Master_Thesis_Alexander/blob/main/GPs/PowerGPs.ipynb\" target=\"_parent\"><img src=\"https://colab.research.google.com/assets/colab-badge.svg\" alt=\"Open In Colab\"/></a>"
      ]
    },
    {
      "cell_type": "markdown",
      "source": [
        "# Gaussian Processes on the Power Plant dataset"
      ],
      "metadata": {
        "id": "lGZxtnuROxTm"
      }
    },
    {
      "cell_type": "code",
      "source": [
        "from google.colab import drive\n",
        "drive.mount('/content/drive')\n",
        "%cd /content/drive/MyDrive/Master_Thesis_Alexander\n",
        "!git config --global user.email \"alexander.sabelstrom.1040@student.uu.se\"\n",
        "!git config --global user.name \"Sabelz\""
      ],
      "metadata": {
        "colab": {
          "base_uri": "https://localhost:8080/"
        },
        "id": "E6C8woR2O5OV",
        "outputId": "a108c879-648c-4aa6-c17e-0e2f5ebd9417"
      },
      "execution_count": 1,
      "outputs": [
        {
          "output_type": "stream",
          "name": "stdout",
          "text": [
            "Mounted at /content/drive\n",
            "/content/drive/MyDrive/Master_Thesis_Alexander\n"
          ]
        }
      ]
    },
    {
      "cell_type": "markdown",
      "source": [
        "# Imports"
      ],
      "metadata": {
        "id": "ZheNcHosO81G"
      }
    },
    {
      "cell_type": "code",
      "source": [
        "import numpy as np\n",
        "import matplotlib.pyplot as plt\n",
        "import torch\n",
        "!pip install gpytorch > \\dev\\null # Suppress prints\n",
        "import gpytorch\n",
        "import seaborn as sns\n",
        "from sklearn.model_selection import train_test_split\n",
        "from sklearn.metrics import mean_squared_error\n",
        "from torch.utils.data import TensorDataset, DataLoader\n",
        "\n",
        "%matplotlib inline\n",
        "%load_ext autoreload\n",
        "%autoreload 2\n",
        "%run \"datasets/power.ipynb\" # Run the Power notebook\n",
        "%run \"utils/models.ipynb\" # Run the models notebook\n",
        "%run \"utils/functions.ipynb\" # Run the functions notebook"
      ],
      "metadata": {
        "colab": {
          "base_uri": "https://localhost:8080/"
        },
        "id": "cCuFrto2O_aT",
        "outputId": "691961c8-8e6b-4cb3-dd2b-763e62878982"
      },
      "execution_count": 2,
      "outputs": [
        {
          "output_type": "stream",
          "name": "stdout",
          "text": [
            "Drive already mounted at /content/drive; to attempt to forcibly remount, call drive.mount(\"/content/drive\", force_remount=True).\n",
            "/content/drive/MyDrive/Master_Thesis_Alexander\n",
            "<class 'pandas.core.frame.DataFrame'>\n",
            "RangeIndex: 9568 entries, 0 to 9567\n",
            "Data columns (total 5 columns):\n",
            " #   Column  Non-Null Count  Dtype  \n",
            "---  ------  --------------  -----  \n",
            " 0   AT      9568 non-null   float64\n",
            " 1   V       9568 non-null   float64\n",
            " 2   AP      9568 non-null   float64\n",
            " 3   RH      9568 non-null   float64\n",
            " 4   PE      9568 non-null   float64\n",
            "dtypes: float64(5)\n",
            "memory usage: 373.9 KB\n",
            "None\n",
            "\n",
            "AT    False\n",
            "V     False\n",
            "AP    False\n",
            "RH    False\n",
            "PE    False\n",
            "dtype: bool\n",
            "Drive already mounted at /content/drive; to attempt to forcibly remount, call drive.mount(\"/content/drive\", force_remount=True).\n",
            "/content/drive/MyDrive/Master_Thesis_Alexander\n",
            "----------------------------------------------------------\n",
            "ALL MODELS: \n",
            "KISS-GP For 1D-4D data:\n",
            "    Example:\n",
            "      likelihood = gpytorch.likelihoods.GaussianLikelihood()\n",
            "      mean = gpytorch.means.ConstantMean()\n",
            "      kernel = gpytorch.kernels.RBFKernel()\n",
            "      model = KISSGP(x_train, y_train, likelihood, mean, kernel)\n",
            "      model = model.to(device) # Move model to device\n",
            "\n",
            "KISS-GP For higher dimensional data:\n",
            "    Example:\n",
            "      likelihood = gpytorch.likelihoods.GaussianLikelihood()\n",
            "      mean = gpytorch.means.ConstantMean()\n",
            "      kernel = gpytorch.kernels.RBFKernel()\n",
            "      model = KISSGP_NDim(x_train, y_train, likelihood, mean, kernel)\n",
            "      model = model.to(device) # Move model to device\n",
            "\n",
            "Inducing Points GP:\n",
            "    Example:\n",
            "      likelihood = gpytorch.likelihoods.GaussianLikelihood()\n",
            "      mean = gpytorch.means.ConstantMean()\n",
            "      kernel = gpytorch.kernels.RBFKernel()\n",
            "      n_inducing_points = 500\n",
            "      inducing_points = x_train[torch.randperm(x_train.size(0))[:num_inducing_points]]\n",
            "      model = InducingGP(likelihood, mean, kernel, inducing_points)\n",
            "      model = model.to(device) # Move model to device.\n",
            "Drive already mounted at /content/drive; to attempt to forcibly remount, call drive.mount(\"/content/drive\", force_remount=True).\n",
            "/content/drive/MyDrive/Master_Thesis_Alexander\n"
          ]
        }
      ]
    },
    {
      "cell_type": "markdown",
      "source": [
        "# Prepare The Data"
      ],
      "metadata": {
        "id": "8m7WAYl7QE14"
      }
    },
    {
      "cell_type": "code",
      "source": [
        "powerPlant_data = df_PowerPlant # df_PowerPlant is defined in ../datasets/power.ipynb\n",
        "# The last column is output(net hourly electrical energy output (EP)  of the plant)\n",
        "x_power, y_power = powerPlant_data.iloc[:, :-1].to_numpy() , powerPlant_data.iloc[:, -1].to_numpy()\n",
        "\n",
        "\n",
        "x_train_power, x_test_power, y_train_power, y_test_power = train_test_split(x_power, y_power, test_size=0.2, random_state=666)\n",
        "# Transform into tensors\n",
        "x_train_power, x_test_power, y_train_power, y_test_power = (\n",
        "torch.from_numpy(x_train_power).float(), torch.from_numpy(x_test_power).float(),\n",
        "torch.from_numpy(y_train_power).float(), torch.from_numpy(y_test_power).float())\n",
        "\n",
        "\n",
        "if torch.cuda.is_available():\n",
        "    x_train_power, y_train_power, x_test_power, y_test_power = (\n",
        "    x_train_power.cuda(), y_train_power.cuda(), x_test_power.cuda(), y_test_power.cuda())\n",
        "\n",
        "# Train data into batches\n",
        "train_dataset_power = TensorDataset(x_train_power, y_train_power)\n",
        "train_loader_power = DataLoader(train_dataset_power, batch_size=500, shuffle=True)\n",
        "\n",
        "# Test data into batches\n",
        "test_dataset_power = TensorDataset(x_test_power, y_test_power)\n",
        "test_loader_power = DataLoader(test_dataset_power, batch_size=500, shuffle=False)"
      ],
      "metadata": {
        "id": "JQKLanCDQGGW"
      },
      "execution_count": 3,
      "outputs": []
    },
    {
      "cell_type": "markdown",
      "source": [
        "# Define the KISS-GP Model for 1D-4D data"
      ],
      "metadata": {
        "id": "o414crpg-yT7"
      }
    },
    {
      "cell_type": "code",
      "source": [
        "KISSGP_likelihood_power = gpytorch.likelihoods.GaussianLikelihood() # Likelihood\n",
        "KISSGP_mean_power = gpytorch.means.ConstantMean() # Mean\n",
        "KISSGP_kernel_power = gpytorch.kernels.RBFKernel() # Kernel\n",
        "KISSGP_model_power = KISSGP_NDim(x_train_power, y_train_power, KISSGP_likelihood_power, KISSGP_mean_power, KISSGP_kernel_power) # KISSGP defined in utils/Models.ipynb"
      ],
      "metadata": {
        "id": "-6cmLoDC-61z"
      },
      "execution_count": 6,
      "outputs": []
    },
    {
      "cell_type": "markdown",
      "source": [
        "# Train and Evaluate the KISS-GP Model"
      ],
      "metadata": {
        "id": "wk1J59hX_a7o"
      }
    },
    {
      "cell_type": "code",
      "source": [
        "train(KISSGP_model_power, KISSGP_likelihood_power, x_train_power, y_train_power, training_iter= 40) # train is defined in utils/functions.ipynb"
      ],
      "metadata": {
        "id": "e4xnVJHZ_fak",
        "colab": {
          "base_uri": "https://localhost:8080/"
        },
        "outputId": "76e4a4b0-d711-4fb1-ff75-78cfd9e31f0a"
      },
      "execution_count": 7,
      "outputs": [
        {
          "output_type": "stream",
          "name": "stderr",
          "text": [
            "/usr/local/lib/python3.10/dist-packages/linear_operator/utils/sparse.py:51: UserWarning: TypedStorage is deprecated. It will be removed in the future and UntypedStorage will be the only storage class. This should only matter to you if you are using storages directly.  To access UntypedStorage directly, use tensor.untyped_storage() instead of tensor.storage()\n",
            "  if nonzero_indices.storage():\n",
            "/usr/local/lib/python3.10/dist-packages/linear_operator/utils/sparse.py:66: UserWarning: The torch.cuda.*DtypeTensor constructors are no longer recommended. It's best to use methods such as torch.tensor(data, dtype=*, device='cuda') to create tensors. (Triggered internally at ../torch/csrc/tensor/python_tensor.cpp:83.)\n",
            "  res = cls(index_tensor, value_tensor, interp_size)\n",
            "/usr/local/lib/python3.10/dist-packages/linear_operator/utils/sparse.py:66: UserWarning: torch.sparse.SparseTensor(indices, values, shape, *, device=) is deprecated.  Please use torch.sparse_coo_tensor(indices, values, shape, dtype=, device=). (Triggered internally at ../torch/csrc/utils/tensor_new.cpp:605.)\n",
            "  res = cls(index_tensor, value_tensor, interp_size)\n"
          ]
        }
      ]
    },
    {
      "cell_type": "code",
      "source": [
        "with torch.no_grad(), gpytorch.settings.fast_pred_var():\n",
        "  predictions_KISSGP_power = predict(KISSGP_model_power, KISSGP_likelihood_power, x_test_power) # predict is defined in utils/functions.ipynb\n",
        "\n",
        "  # Root Mean Square Error(RMSE)\n",
        "  # NumPy can only handle CPU tensors\n",
        "  y_test_power_cpu = y_test_power.cpu()\n",
        "  predictions_KISSGP_power_cpu = predictions_KISSGP_power.mean.cpu()\n",
        "  RMSE_KISSGP_power = mean_squared_error(y_test_power_cpu, predictions_KISSGP_power_cpu, squared=False)\n",
        "  print(\"RMSE KISS-GP: \",RMSE_KISSGP_power)"
      ],
      "metadata": {
        "id": "WPI-cYjpBPdV",
        "colab": {
          "base_uri": "https://localhost:8080/"
        },
        "outputId": "b0ed0f4a-1738-4336-c5f6-73f2b4f4aea2"
      },
      "execution_count": 10,
      "outputs": [
        {
          "output_type": "stream",
          "name": "stdout",
          "text": [
            "RMSE KISS-GP:  4.4322186\n"
          ]
        }
      ]
    },
    {
      "cell_type": "markdown",
      "source": [
        "# Inducing Points Model"
      ],
      "metadata": {
        "id": "wtEd0t-NBmgW"
      }
    },
    {
      "cell_type": "code",
      "source": [
        "inducing_likelihood_power = gpytorch.likelihoods.GaussianLikelihood()\n",
        "inducing_mean_power = gpytorch.means.ConstantMean()\n",
        "inducing_kernel_power = gpytorch.kernels.RBFKernel()\n",
        "n_inducing_points = 150\n",
        "# Generate a tensor of random indices\n",
        "indices = torch.randperm(x_train_power.size(0))\n",
        "# Select N random rows\n",
        "inducing_points = x_train_power[indices][:n_inducing_points]\n",
        "inducing_model_power = InducingGP(inducing_likelihood_power, inducing_mean_power, inducing_kernel_power, inducing_points) # InducingGP defined in utils/models.ipynb\n",
        "inducing_model_power = inducing_model_power.to(device) # Move model to device, defined in utils/models.ipynb"
      ],
      "metadata": {
        "id": "B2Ppw-GGBvYS"
      },
      "execution_count": null,
      "outputs": []
    },
    {
      "cell_type": "markdown",
      "source": [
        "# Train and Evaluate Inducing Points Model"
      ],
      "metadata": {
        "id": "YlE9whGIDngd"
      }
    },
    {
      "cell_type": "code",
      "source": [
        "# Use train_loader_power\n",
        "train_ELBO(inducing_model_power, inducing_likelihood_power, x_train_power, y_train_power, training_iter= 1000, train_loader=train_loader_power) # train is defined in utils/functions.ipynb"
      ],
      "metadata": {
        "id": "NcH2FD4fDpck"
      },
      "execution_count": null,
      "outputs": []
    },
    {
      "cell_type": "code",
      "source": [
        "with torch.no_grad(), gpytorch.settings.fast_pred_var():\n",
        "  # predict is defined in utils/functions.ipynb\n",
        "  predictions_inducing_power = predict(inducing_model_power, inducing_likelihood_power, x_test_power)\n",
        "\n",
        "  # Root Mean Square Error(RMSE)\n",
        "  # NumPy can only handle CPU tensors\n",
        "  y_test_power_cpu = y_test_power.cpu()\n",
        "  predictions_inducing_power_cpu = predictions_inducing_power.mean.cpu()\n",
        "  RMSE_inducing_power = mean_squared_error(y_test_power_cpu, predictions_inducing_power_cpu, squared=False)\n",
        "  print(\"RMSE Inducing Model: \",RMSE_inducing_power)"
      ],
      "metadata": {
        "colab": {
          "base_uri": "https://localhost:8080/"
        },
        "id": "bn4BU7bCE643",
        "outputId": "3eb54d77-2f91-4843-d77f-0019a25b21c0"
      },
      "execution_count": null,
      "outputs": [
        {
          "output_type": "stream",
          "name": "stdout",
          "text": [
            "RMSE Inducing Model:  4.354558303746978\n"
          ]
        }
      ]
    }
  ]
}