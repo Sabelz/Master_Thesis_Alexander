{
  "cells": [
    {
      "cell_type": "markdown",
      "metadata": {
        "id": "view-in-github",
        "colab_type": "text"
      },
      "source": [
        "<a href=\"https://colab.research.google.com/github/Sabelz/Master_Thesis_Alexander/blob/main/GPs/PowerGPs.ipynb\" target=\"_parent\"><img src=\"https://colab.research.google.com/assets/colab-badge.svg\" alt=\"Open In Colab\"/></a>"
      ]
    },
    {
      "cell_type": "markdown",
      "metadata": {
        "id": "lGZxtnuROxTm"
      },
      "source": [
        "# Gaussian Processes on the Power Plant dataset"
      ]
    },
    {
      "cell_type": "code",
      "execution_count": 9,
      "metadata": {
        "colab": {
          "base_uri": "https://localhost:8080/"
        },
        "id": "E6C8woR2O5OV",
        "outputId": "7af30881-cb96-4c80-c97c-0703c05988bb"
      },
      "outputs": [
        {
          "output_type": "stream",
          "name": "stdout",
          "text": [
            "Drive already mounted at /content/drive; to attempt to forcibly remount, call drive.mount(\"/content/drive\", force_remount=True).\n",
            "/content/drive/MyDrive/Master_Thesis_Alexander\n"
          ]
        }
      ],
      "source": [
        "from google.colab import drive\n",
        "drive.mount('/content/drive')\n",
        "%cd /content/drive/MyDrive/Master_Thesis_Alexander\n",
        "!git config --global user.email \"alexander.sabelstrom.1040@student.uu.se\"\n",
        "!git config --global user.name \"Sabelz\""
      ]
    },
    {
      "cell_type": "markdown",
      "metadata": {
        "id": "ZheNcHosO81G"
      },
      "source": [
        "# Imports"
      ]
    },
    {
      "cell_type": "code",
      "execution_count": 10,
      "metadata": {
        "colab": {
          "base_uri": "https://localhost:8080/"
        },
        "id": "cCuFrto2O_aT",
        "outputId": "f960184b-7e2a-4fe0-e5a5-a4720ce55ed9"
      },
      "outputs": [
        {
          "output_type": "stream",
          "name": "stdout",
          "text": [
            "Requirement already satisfied: gpytorch in /usr/local/lib/python3.10/dist-packages (1.11)\n",
            "Requirement already satisfied: scikit-learn in /usr/local/lib/python3.10/dist-packages (from gpytorch) (1.2.2)\n",
            "Requirement already satisfied: linear-operator>=0.5.0 in /usr/local/lib/python3.10/dist-packages (from gpytorch) (0.5.2)\n",
            "Requirement already satisfied: torch>=1.11 in /usr/local/lib/python3.10/dist-packages (from linear-operator>=0.5.0->gpytorch) (2.2.1+cu121)\n",
            "Requirement already satisfied: scipy in /usr/local/lib/python3.10/dist-packages (from linear-operator>=0.5.0->gpytorch) (1.11.4)\n",
            "Requirement already satisfied: jaxtyping>=0.2.9 in /usr/local/lib/python3.10/dist-packages (from linear-operator>=0.5.0->gpytorch) (0.2.28)\n",
            "Requirement already satisfied: typeguard~=2.13.3 in /usr/local/lib/python3.10/dist-packages (from linear-operator>=0.5.0->gpytorch) (2.13.3)\n",
            "Requirement already satisfied: numpy>=1.17.3 in /usr/local/lib/python3.10/dist-packages (from scikit-learn->gpytorch) (1.25.2)\n",
            "Requirement already satisfied: joblib>=1.1.1 in /usr/local/lib/python3.10/dist-packages (from scikit-learn->gpytorch) (1.4.2)\n",
            "Requirement already satisfied: threadpoolctl>=2.0.0 in /usr/local/lib/python3.10/dist-packages (from scikit-learn->gpytorch) (3.5.0)\n",
            "Requirement already satisfied: filelock in /usr/local/lib/python3.10/dist-packages (from torch>=1.11->linear-operator>=0.5.0->gpytorch) (3.14.0)\n",
            "Requirement already satisfied: typing-extensions>=4.8.0 in /usr/local/lib/python3.10/dist-packages (from torch>=1.11->linear-operator>=0.5.0->gpytorch) (4.11.0)\n",
            "Requirement already satisfied: sympy in /usr/local/lib/python3.10/dist-packages (from torch>=1.11->linear-operator>=0.5.0->gpytorch) (1.12)\n",
            "Requirement already satisfied: networkx in /usr/local/lib/python3.10/dist-packages (from torch>=1.11->linear-operator>=0.5.0->gpytorch) (3.3)\n",
            "Requirement already satisfied: jinja2 in /usr/local/lib/python3.10/dist-packages (from torch>=1.11->linear-operator>=0.5.0->gpytorch) (3.1.3)\n",
            "Requirement already satisfied: fsspec in /usr/local/lib/python3.10/dist-packages (from torch>=1.11->linear-operator>=0.5.0->gpytorch) (2023.6.0)\n",
            "Requirement already satisfied: nvidia-cuda-nvrtc-cu12==12.1.105 in /usr/local/lib/python3.10/dist-packages (from torch>=1.11->linear-operator>=0.5.0->gpytorch) (12.1.105)\n",
            "Requirement already satisfied: nvidia-cuda-runtime-cu12==12.1.105 in /usr/local/lib/python3.10/dist-packages (from torch>=1.11->linear-operator>=0.5.0->gpytorch) (12.1.105)\n",
            "Requirement already satisfied: nvidia-cuda-cupti-cu12==12.1.105 in /usr/local/lib/python3.10/dist-packages (from torch>=1.11->linear-operator>=0.5.0->gpytorch) (12.1.105)\n",
            "Requirement already satisfied: nvidia-cudnn-cu12==8.9.2.26 in /usr/local/lib/python3.10/dist-packages (from torch>=1.11->linear-operator>=0.5.0->gpytorch) (8.9.2.26)\n",
            "Requirement already satisfied: nvidia-cublas-cu12==12.1.3.1 in /usr/local/lib/python3.10/dist-packages (from torch>=1.11->linear-operator>=0.5.0->gpytorch) (12.1.3.1)\n",
            "Requirement already satisfied: nvidia-cufft-cu12==11.0.2.54 in /usr/local/lib/python3.10/dist-packages (from torch>=1.11->linear-operator>=0.5.0->gpytorch) (11.0.2.54)\n",
            "Requirement already satisfied: nvidia-curand-cu12==10.3.2.106 in /usr/local/lib/python3.10/dist-packages (from torch>=1.11->linear-operator>=0.5.0->gpytorch) (10.3.2.106)\n",
            "Requirement already satisfied: nvidia-cusolver-cu12==11.4.5.107 in /usr/local/lib/python3.10/dist-packages (from torch>=1.11->linear-operator>=0.5.0->gpytorch) (11.4.5.107)\n",
            "Requirement already satisfied: nvidia-cusparse-cu12==12.1.0.106 in /usr/local/lib/python3.10/dist-packages (from torch>=1.11->linear-operator>=0.5.0->gpytorch) (12.1.0.106)\n",
            "Requirement already satisfied: nvidia-nccl-cu12==2.19.3 in /usr/local/lib/python3.10/dist-packages (from torch>=1.11->linear-operator>=0.5.0->gpytorch) (2.19.3)\n",
            "Requirement already satisfied: nvidia-nvtx-cu12==12.1.105 in /usr/local/lib/python3.10/dist-packages (from torch>=1.11->linear-operator>=0.5.0->gpytorch) (12.1.105)\n",
            "Requirement already satisfied: triton==2.2.0 in /usr/local/lib/python3.10/dist-packages (from torch>=1.11->linear-operator>=0.5.0->gpytorch) (2.2.0)\n",
            "Requirement already satisfied: nvidia-nvjitlink-cu12 in /usr/local/lib/python3.10/dist-packages (from nvidia-cusolver-cu12==11.4.5.107->torch>=1.11->linear-operator>=0.5.0->gpytorch) (12.4.127)\n",
            "Requirement already satisfied: MarkupSafe>=2.0 in /usr/local/lib/python3.10/dist-packages (from jinja2->torch>=1.11->linear-operator>=0.5.0->gpytorch) (2.1.5)\n",
            "Requirement already satisfied: mpmath>=0.19 in /usr/local/lib/python3.10/dist-packages (from sympy->torch>=1.11->linear-operator>=0.5.0->gpytorch) (1.3.0)\n",
            "The autoreload extension is already loaded. To reload it, use:\n",
            "  %reload_ext autoreload\n",
            "Drive already mounted at /content/drive; to attempt to forcibly remount, call drive.mount(\"/content/drive\", force_remount=True).\n",
            "/content/drive/MyDrive/Master_Thesis_Alexander\n",
            "<class 'pandas.core.frame.DataFrame'>\n",
            "RangeIndex: 9568 entries, 0 to 9567\n",
            "Data columns (total 5 columns):\n",
            " #   Column  Non-Null Count  Dtype  \n",
            "---  ------  --------------  -----  \n",
            " 0   AT      9568 non-null   float64\n",
            " 1   V       9568 non-null   float64\n",
            " 2   AP      9568 non-null   float64\n",
            " 3   RH      9568 non-null   float64\n",
            " 4   PE      9568 non-null   float64\n",
            "dtypes: float64(5)\n",
            "memory usage: 373.9 KB\n",
            "None\n",
            "\n",
            "AT    False\n",
            "V     False\n",
            "AP    False\n",
            "RH    False\n",
            "PE    False\n",
            "dtype: bool\n",
            "Drive already mounted at /content/drive; to attempt to forcibly remount, call drive.mount(\"/content/drive\", force_remount=True).\n",
            "/content/drive/MyDrive/Master_Thesis_Alexander\n",
            "----------------------------------------------------------\n",
            "ALL MODELS: \n",
            "KISS-GP For 1D-4D data:\n",
            "    Example:\n",
            "      likelihood = gpytorch.likelihoods.GaussianLikelihood()\n",
            "      mean = gpytorch.means.ConstantMean()\n",
            "      kernel = gpytorch.kernels.RBFKernel()\n",
            "      model = KISSGP(x_train, y_train, likelihood, mean, kernel)\n",
            "      model = model.to(device) # Move model to device\n",
            "\n",
            "KISS-GP For higher dimensional data:\n",
            "    Example:\n",
            "      likelihood = gpytorch.likelihoods.GaussianLikelihood()\n",
            "      mean = gpytorch.means.ConstantMean()\n",
            "      kernel = gpytorch.kernels.RBFKernel()\n",
            "      model = KISSGP_NDim(x_train, y_train, likelihood, mean, kernel)\n",
            "      model = model.to(device) # Move model to device\n",
            "\n",
            " Variational GP:\n",
            "    Example:\n",
            "      likelihood = gpytorch.likelihoods.GaussianLikelihood()\n",
            "      mean = gpytorch.means.ConstantMean()\n",
            "      kernel = gpytorch.kernels.RBFKernel()\n",
            "      n_inducing_points = 500\n",
            "      inducing_points = x_train[torch.randperm(x_train.size(0))[:num_inducing_points]]\n",
            "      model = variationalGP(likelihood, mean, kernel, inducing_points)\n",
            "      model = model.to(device) # Move model to device.\n",
            "\n",
            " Inducing GP:\n",
            "    Example:\n",
            "      likelihood = gpytorch.likelihoods.GaussianLikelihood() # Likelihood\n",
            "      mean = gpytorch.means.ConstantMean() # Mean\n",
            "      kernel = gpytorch.kernels.RBFKernel() # Kernel\n",
            "      indices = torch.randperm(x_train.size(0))\n",
            "      inducing_points_amount = 50 # Choose how many inducing points\n",
            "      inducing_points = x_train[indices][:inducing_points_amount]\n",
            "      model = inducingGP(x_train,\n",
            "                                y_train,\n",
            "                                inducing_likelihood,\n",
            "                                inducing_mean,\n",
            "                                inducing_kernel,\n",
            "                                inducing_points)\n",
            "      model = model.to(device) # Move model to device.\n",
            "\n",
            "exactGP:\n",
            "    Example:\n",
            "        likelihood = gpytorch.likelihoods.GaussianLikelihood()\n",
            "        mean = gpytorch.means.ConstantMean()\n",
            "        kernel = gpytorch.kernels.MaternKernel()\n",
            "        model = exactGP(x_train,\n",
            "                             y_train,\n",
            "                             likelihood,\n",
            "                             mean,\n",
            "                             kernel)\n",
            "        model = model.to(device)\n",
            "\n",
            "      \n",
            "Drive already mounted at /content/drive; to attempt to forcibly remount, call drive.mount(\"/content/drive\", force_remount=True).\n",
            "/content/drive/MyDrive/Master_Thesis_Alexander\n",
            "Requirement already satisfied: jaxopt in /usr/local/lib/python3.10/dist-packages (0.8.3)\n",
            "Requirement already satisfied: jax>=0.2.18 in /usr/local/lib/python3.10/dist-packages (from jaxopt) (0.4.26)\n",
            "Requirement already satisfied: jaxlib>=0.1.69 in /usr/local/lib/python3.10/dist-packages (from jaxopt) (0.4.26+cuda12.cudnn89)\n",
            "Requirement already satisfied: numpy>=1.18.4 in /usr/local/lib/python3.10/dist-packages (from jaxopt) (1.25.2)\n",
            "Requirement already satisfied: scipy>=1.0.0 in /usr/local/lib/python3.10/dist-packages (from jaxopt) (1.11.4)\n",
            "Requirement already satisfied: ml-dtypes>=0.2.0 in /usr/local/lib/python3.10/dist-packages (from jax>=0.2.18->jaxopt) (0.2.0)\n",
            "Requirement already satisfied: opt-einsum in /usr/local/lib/python3.10/dist-packages (from jax>=0.2.18->jaxopt) (3.3.0)\n"
          ]
        }
      ],
      "source": [
        "import numpy as np\n",
        "import matplotlib.pyplot as plt\n",
        "import torch\n",
        "!pip install gpytorch\n",
        "import gpytorch\n",
        "import seaborn as sns\n",
        "from sklearn.model_selection import train_test_split\n",
        "from sklearn.metrics import mean_squared_error\n",
        "from torch.utils.data import TensorDataset, DataLoader\n",
        "from sklearn.preprocessing import StandardScaler\n",
        "\n",
        "%matplotlib inline\n",
        "%load_ext autoreload\n",
        "%autoreload 2\n",
        "%run \"datasets/power.ipynb\" # Run the Power notebook\n",
        "%run \"utils/models.ipynb\" # Run the models notebook\n",
        "%run \"utils/functions.ipynb\" # Run the functions notebook"
      ]
    },
    {
      "cell_type": "markdown",
      "metadata": {
        "id": "8m7WAYl7QE14"
      },
      "source": [
        "# Prepare The Data"
      ]
    },
    {
      "cell_type": "code",
      "execution_count": 11,
      "metadata": {
        "id": "JQKLanCDQGGW"
      },
      "outputs": [],
      "source": [
        "powerPlant_data = df_PowerPlant # df_PowerPlant is defined in ../datasets/power.ipynb\n",
        "# The last column is output(net hourly electrical energy output (EP)  of the plant)\n",
        "x_power, y_power = powerPlant_data.iloc[:, :-1].to_numpy() , powerPlant_data.iloc[:, -1].to_numpy()\n",
        "\n",
        "\n",
        "x_train_power, x_test_power, y_train_power, y_test_power = train_test_split(x_power, y_power, test_size=0.2, random_state=666)\n",
        "# Transform into tensors\n",
        "x_train_power, x_test_power, y_train_power, y_test_power = (\n",
        "torch.from_numpy(x_train_power).float(), torch.from_numpy(x_test_power).float(),\n",
        "torch.from_numpy(y_train_power).float(), torch.from_numpy(y_test_power).float())\n",
        "\n",
        "# Standardized data\n",
        "scaler = StandardScaler()\n",
        "x_train_power_standardized = torch.from_numpy(scaler.fit_transform(x_train_power)).float()\n",
        "# Use the same scaler that was used on training data\n",
        "x_test_power_standardized = torch.from_numpy(scaler.transform(x_test_power)).float()\n",
        "\n",
        "if torch.cuda.is_available():\n",
        "    x_train_power, y_train_power, x_test_power, y_test_power, x_train_power_standardized, x_test_power_standardized = (\n",
        "    x_train_power.cuda(), y_train_power.cuda(), x_test_power.cuda(), y_test_power.cuda(),\n",
        "    x_train_power_standardized.cuda(), x_test_power_standardized.cuda())\n",
        "\n",
        "# Train data into batches\n",
        "#train_dataset_power = TensorDataset(x_train_power, y_train_power)\n",
        "#train_loader_power = DataLoader(train_dataset_power, batch_size=500, shuffle=True)\n",
        "\n",
        "# Test data into batches\n",
        "#test_dataset_power = TensorDataset(x_test_power, y_test_power)\n",
        "#test_loader_power = DataLoader(test_dataset_power, batch_size=500, shuffle=False)\n",
        "\n",
        "# Standardized batches\n",
        "# Train data into batches\n",
        "#train_dataset_power_standardized = TensorDataset(x_train_power_standardized, y_train_power)\n",
        "#train_loader_power_standardized = DataLoader(train_dataset_power_standardized, batch_size=500, shuffle=True)\n",
        "\n",
        "# Test data into batches\n",
        "#test_dataset_power_standardized = TensorDataset(x_test_power_standardized, y_test_power)\n",
        "#test_loader_power_standardized = DataLoader(test_dataset_power_standardized, batch_size=500, shuffle=False)"
      ]
    },
    {
      "cell_type": "markdown",
      "metadata": {
        "id": "o414crpg-yT7"
      },
      "source": [
        "# Define the KISS-GP Model"
      ]
    },
    {
      "cell_type": "code",
      "execution_count": 12,
      "metadata": {
        "id": "-6cmLoDC-61z"
      },
      "outputs": [],
      "source": [
        "KISSGP_likelihood_power = gpytorch.likelihoods.GaussianLikelihood() # Likelihood\n",
        "KISSGP_mean_power = gpytorch.means.ConstantMean() # Mean\n",
        "KISSGP_kernel_power = gpytorch.kernels.RBFKernel() # Kernel\n",
        "KISSGP_model_power = KISSGP_NDim(x_train_power,\n",
        "                                 y_train_power,\n",
        "                                 KISSGP_likelihood_power,\n",
        "                                 KISSGP_mean_power,\n",
        "                                 KISSGP_kernel_power) # KISSGP defined in utils/Models.ipynb\n",
        "KISSGP_model_power = KISSGP_model_power.to(device) # Move model to device.\n",
        "\n",
        "# One with standardized features\n",
        "KISSGP_likelihood_power_standardized = gpytorch.likelihoods.GaussianLikelihood() # Likelihood\n",
        "KISSGP_mean_power_standardized = gpytorch.means.ConstantMean() # Mean\n",
        "KISSGP_kernel_power_standardized = gpytorch.kernels.RBFKernel() # Kernel\n",
        "KISSGP_model_power_standardized = KISSGP_NDim(x_train_power_standardized,\n",
        "                                              y_train_power,\n",
        "                                              KISSGP_likelihood_power_standardized,\n",
        "                                              KISSGP_mean_power_standardized,\n",
        "                                              KISSGP_kernel_power_standardized) # KISSGP defined in utils/Models.ipynb\n",
        "KISSGP_model_power_standardized = KISSGP_model_power_standardized.to(device) # Move model to device."
      ]
    },
    {
      "cell_type": "markdown",
      "metadata": {
        "id": "wk1J59hX_a7o"
      },
      "source": [
        "# Train and Evaluate the KISS-GP Model"
      ]
    },
    {
      "cell_type": "code",
      "execution_count": 13,
      "metadata": {
        "colab": {
          "base_uri": "https://localhost:8080/",
          "height": 449
        },
        "id": "e4xnVJHZ_fak",
        "outputId": "d2e5019f-fe23-4a72-a023-2e464da7bc3c"
      },
      "outputs": [
        {
          "output_type": "display_data",
          "data": {
            "text/plain": [
              "<Figure size 640x480 with 1 Axes>"
            ],
            "image/png": "[encoded data removed]"
          },
          "metadata": {}
        }
      ],
      "source": [
        "train_time_KISSGP_power = train(KISSGP_model_power,\n",
        "                          KISSGP_likelihood_power,\n",
        "                          x_train_power,\n",
        "                          y_train_power,\n",
        "                          training_iter= 25) # train is defined in utils/functions.ipynb\n",
        "# Standardized version\n",
        "train_time_KISSGP_power_standardized = train(KISSGP_model_power_standardized,\n",
        "                                       KISSGP_likelihood_power_standardized,\n",
        "                                       x_train_power_standardized,\n",
        "                                       y_train_power,\n",
        "                                       training_iter= 25) # train is defined in utils/functions.ipynb"
      ]
    },
    {
      "cell_type": "code",
      "execution_count": 14,
      "metadata": {
        "id": "WPI-cYjpBPdV",
        "colab": {
          "base_uri": "https://localhost:8080/"
        },
        "outputId": "ef60bbc8-61fa-486f-8556-7eb6fea2d721"
      },
      "outputs": [
        {
          "output_type": "stream",
          "name": "stdout",
          "text": [
            "RMSE KISS-GP:  4.853359\n",
            "NLPD KISS-GP:  tensor(6.7806)\n",
            "PICP KISS-GP:  0.4482758620689655\n",
            "MPIW KISS-GP:  5.777979\n",
            "Time KISS-GP:  146.87177729606628\n",
            "RMSE KISS-GP Standardized:  5.2878485\n",
            "NLPD KISS-GP Standardized:  tensor(7.7092)\n",
            "PICP KISS-GP Standardized:  0.4054336468129572\n",
            "MPIW KISS-GP Standardized:  5.7907667\n",
            "Time KISS-GP Standardized:  114.8702335357666\n"
          ]
        }
      ],
      "source": [
        "with torch.no_grad(), gpytorch.settings.fast_pred_var():\n",
        "  predictions_KISSGP_power = predict(KISSGP_model_power, KISSGP_likelihood_power,\n",
        "                                     x_test_power) # predict is defined in utils/functions.ipynb\n",
        "  RMSE_KISSGP_power, NLPD_KISSGP_power, PICP_KISSGP_power, MPIW_KISSGP_power = error_metrics(\n",
        "      x_test_power,\n",
        "      y_test_power,\n",
        "      predictions_KISSGP_power.mean,\n",
        "      predictions_KISSGP_power.variance)# error_metrics defined in utils/functions.ipynb\n",
        "\n",
        "\n",
        "  # Standardized version\n",
        "  predictions_KISSGP_power_standardized = predict(KISSGP_model_power_standardized, KISSGP_likelihood_power_standardized,\n",
        "                                                  x_test_power_standardized) # predict is defined in utils/functions.ipynb\n",
        "\n",
        "  RMSE_KISSGP_power_standardized, NLPD_KISSGP_power_standardized, PICP_KISSGP_power_standardized, MPIW_KISSGP_power_standardized = error_metrics(\n",
        "      x_test_power_standardized,\n",
        "      y_test_power,\n",
        "      predictions_KISSGP_power_standardized.mean,\n",
        "      predictions_KISSGP_power_standardized.variance)# error_metrics defined in utils/functions.ipynb\n",
        "\n",
        "\n",
        "  print(\"RMSE KISS-GP: \",RMSE_KISSGP_power)\n",
        "  print(\"NLPD KISS-GP: \",NLPD_KISSGP_power)\n",
        "  print(\"PICP KISS-GP: \",PICP_KISSGP_power)\n",
        "  print(\"MPIW KISS-GP: \",MPIW_KISSGP_power)\n",
        "  print(\"Time KISS-GP: \", train_time_KISSGP_power)\n",
        "\n",
        "  print(\"RMSE KISS-GP Standardized: \",RMSE_KISSGP_power_standardized)\n",
        "  print(\"NLPD KISS-GP Standardized: \",NLPD_KISSGP_power_standardized)\n",
        "  print(\"PICP KISS-GP Standardized: \",PICP_KISSGP_power_standardized)\n",
        "  print(\"MPIW KISS-GP Standardized: \",MPIW_KISSGP_power_standardized)\n",
        "  print(\"Time KISS-GP Standardized: \", train_time_KISSGP_power_standardized)"
      ]
    },
    {
      "cell_type": "markdown",
      "metadata": {
        "id": "wtEd0t-NBmgW"
      },
      "source": [
        "# Variational Distribution Model"
      ]
    },
    {
      "cell_type": "code",
      "execution_count": 15,
      "metadata": {
        "id": "B2Ppw-GGBvYS"
      },
      "outputs": [],
      "source": [
        "variational_likelihood_power = gpytorch.likelihoods.GaussianLikelihood()\n",
        "variational_mean_power = gpytorch.means.ConstantMean()\n",
        "variational_kernel_power = gpytorch.kernels.RBFKernel()\n",
        "n_inducing_points = int(len(x_train_power/2))\n",
        "# Generate a tensor of random indices\n",
        "indices = torch.randperm(x_train_power.size(0))\n",
        "# Select N random rows\n",
        "inducing_points = x_train_power[indices][:n_inducing_points]\n",
        "variational_model_power = variationalGP(variational_likelihood_power,\n",
        "                                        variational_mean_power,\n",
        "                                        variational_kernel_power,\n",
        "                                        inducing_points) # InducingGP defined in utils/models.ipynb\n",
        "variational_model_power = variational_model_power.to(device) # Move model to device, defined in utils/models.ipynb\n",
        "\n",
        "# Standardized version\n",
        "variational_likelihood_power_standardized = gpytorch.likelihoods.GaussianLikelihood()\n",
        "variational_mean_power_standardized = gpytorch.means.ConstantMean()\n",
        "variational_kernel_power_standardized = gpytorch.kernels.RBFKernel()\n",
        "n_inducing_points = int(len(x_train_power/2))\n",
        "# Generate a tensor of random indices\n",
        "indices = torch.randperm(x_train_power_standardized.size(0))\n",
        "# Select N random rows\n",
        "inducing_points_standardized = x_train_power_standardized[indices][:n_inducing_points]\n",
        "variational_model_power_standardized = variationalGP(variational_likelihood_power_standardized,\n",
        "                                               variational_mean_power_standardized,\n",
        "                                               variational_kernel_power_standardized,\n",
        "                                               inducing_points_standardized) # InducingGP defined in utils/models.ipynb\n",
        "variational_model_power_standardized = variational_model_power_standardized.to(device) # Move model to device, defined in utils/models.ipynb"
      ]
    },
    {
      "cell_type": "markdown",
      "metadata": {
        "id": "YlE9whGIDngd"
      },
      "source": [
        "# Train and Evaluate Variational Model"
      ]
    },
    {
      "cell_type": "code",
      "execution_count": null,
      "metadata": {
        "id": "NcH2FD4fDpck"
      },
      "outputs": [],
      "source": [
        "# Use train_loader_power\n",
        "train_time_variational_power = train_ELBO(variational_model_power,\n",
        "                                 variational_likelihood_power,\n",
        "                                 x_train_power,\n",
        "                                 y_train_power,\n",
        "                                 training_iter= 25) # train is defined in utils/functions.ipynb\n",
        "\n",
        "# Standardized version, train_loader_power_standardized\n",
        "train_time_variational_power_standardized = train_ELBO(variational_model_power_standardized,\n",
        "                                              variational_likelihood_power_standardized,\n",
        "                                              x_train_power_standardized,\n",
        "                                              y_train_power,\n",
        "                                              training_iter= 25) # train is defined in utils/functions.ipynb"
      ]
    },
    {
      "cell_type": "code",
      "execution_count": null,
      "metadata": {
        "id": "bn4BU7bCE643"
      },
      "outputs": [],
      "source": [
        "with torch.no_grad(), gpytorch.settings.fast_pred_var():\n",
        "  # predict is defined in utils/functions.ipynb\n",
        "  predictions_variational_power = predict(variational_model_power, variational_likelihood_power, x_test_power)\n",
        "\n",
        "  RMSE_variational_power, NLPD_variational_power, PICP_variational_power, MPIW_variational_power = error_metrics(\n",
        "      x_test_power,\n",
        "      y_test_power,\n",
        "      predictions_variational_power.mean,\n",
        "      predictions_variational_power.variance)# error_metrics defined in utils/functions.ipynb\n",
        "  print(\"RMSE variational Model: \",RMSE_variational_power)\n",
        "  print(\"NLPD variational Model: \",NLPD_variational_power)\n",
        "  print(\"PICP variational Model: \",PICP_variational_power)\n",
        "  print(\"MPIW variational Model: \",MPIW_variational_power)\n",
        "  print(\"Time variational Model: \", train_time_variational_power)\n",
        "\n",
        "  # Standardized version\n",
        "  predictions_variational_power_standardized = predict(variational_model_power_standardized,\n",
        "                                       variational_likelihood_power_standardized,\n",
        "                                       x_test_power_standardized)\n",
        "\n",
        "  RMSE_variational_power_standardized, NLPD_variational_power_standardized, PICP_variational_power_standardized, MPIW_variational_power_standardized = error_metrics(\n",
        "      x_test_power_standardized,\n",
        "      y_test_power,\n",
        "      predictions_variational_power_standardized.mean,\n",
        "      predictions_variational_power_standardized.variance)# error_metrics defined in utils/functions.ipynb\n",
        "  print(\"RMSE variational Model Standardized: \",RMSE_variational_power_standardized)\n",
        "  print(\"NLPD variational Model Standardized: \",NLPD_variational_power_standardized)\n",
        "  print(\"PICP variational Model Standardized: \",PICP_variational_power_standardized)\n",
        "  print(\"MPIW variational Model Standardized: \",MPIW_variational_power_standardized)\n",
        "  print(\"Time variational Model Standardized: \", train_time_variational_power_standardized)"
      ]
    },
    {
      "cell_type": "markdown",
      "source": [
        "# Inducing Points Model"
      ],
      "metadata": {
        "id": "Y6h7MCZL6JH7"
      }
    },
    {
      "cell_type": "code",
      "source": [
        "inducing_likelihood_power = gpytorch.likelihoods.GaussianLikelihood() # Likelihood\n",
        "inducing_mean_power = gpytorch.means.ConstantMean() # Mean\n",
        "inducing_kernel_power = gpytorch.kernels.RBFKernel() # Kernel\n",
        "# Choose random inital inducing points\n",
        "# Generate a tensor of random indices\n",
        "indices = torch.randperm(x_train_power.size(0))\n",
        "# Select N random rows\n",
        "inducing_points_amount = 4500 # Around half of the points\n",
        "inducing_points = x_train_power[indices][:n_inducing_points]\n",
        "inducing_model_power = inducingGP(x_train_power,\n",
        "                                 y_train_power,\n",
        "                                 inducing_likelihood_power,\n",
        "                                 inducing_mean_power,\n",
        "                                 inducing_kernel_power,\n",
        "                                 inducing_points) # inducingGP defined in utils/Models.ipynb\n",
        "\n",
        "inducing_model_power = inducing_model_power.to(device) # Move model to device.\n",
        "\n",
        "# One with standardized features\n",
        "inducing_likelihood_power_standardized = gpytorch.likelihoods.GaussianLikelihood() # Likelihood\n",
        "inducing_mean_power_standardized = gpytorch.means.ConstantMean() # Mean\n",
        "inducing_kernel_power_standardized = gpytorch.kernels.RBFKernel() # Kernel\n",
        "# Generate a tensor of random indices\n",
        "indices = torch.randperm(x_train_power_standardized.size(0))\n",
        "# Select N random rows\n",
        "inducing_points_standardized = x_train_power_standardized[indices][:inducing_points_amount]\n",
        "inducing_model_power_standardized = inducingGP(x_train_power_standardized,\n",
        "                                              y_train_power,\n",
        "                                              inducing_likelihood_power_standardized,\n",
        "                                              inducing_mean_power_standardized,\n",
        "                                              inducing_kernel_power_standardized,\n",
        "                                              inducing_points_standardized) # inducingGP defined in utils/Models.ipynb\n",
        "\n",
        "inducing_model_power_standardized = inducing_model_power_standardized.to(device) # Move model to device."
      ],
      "metadata": {
        "id": "axRL0AWs6pbd"
      },
      "execution_count": null,
      "outputs": []
    },
    {
      "cell_type": "markdown",
      "source": [
        "# Train and evaluate the inducing model"
      ],
      "metadata": {
        "id": "Ms2tcmvQ8nkl"
      }
    },
    {
      "cell_type": "code",
      "source": [
        "train_time_inducing_power = train(inducing_model_power,\n",
        "                          inducing_likelihood_power,\n",
        "                          x_train_power,\n",
        "                          y_train_power,\n",
        "                          training_iter= 25) # train is defined in utils/functions.ipynb\n",
        "# Standardized version\n",
        "train_time_inducing_power_standardized = train(inducing_model_power_standardized,\n",
        "                                       inducing_likelihood_power_standardized,\n",
        "                                       x_train_power_standardized,\n",
        "                                       y_train_power,\n",
        "                                       training_iter= 25) # train is defined in utils/functions.ipynb"
      ],
      "metadata": {
        "id": "Os24p-nT8pwR"
      },
      "execution_count": null,
      "outputs": []
    },
    {
      "cell_type": "code",
      "source": [
        "with torch.no_grad(), gpytorch.settings.fast_pred_var():\n",
        "  predictions_inducing_power = predict(inducing_model_power, inducing_likelihood_power,\n",
        "                                     x_test_power) # predict is defined in utils/functions.ipynb\n",
        "  RMSE_inducing_power, NLPD_inducing_power, PICP_inducing_power, MPIW_inducing_power = error_metrics(\n",
        "      x_test_power,\n",
        "      y_test_power,\n",
        "      predictions_inducing_power.mean,\n",
        "      predictions_inducing_power.variance)# error_metrics defined in utils/functions.ipynb\n",
        "\n",
        "\n",
        "  # Standardized version\n",
        "  predictions_inducing_power_standardized = predict(inducing_model_power_standardized, inducing_likelihood_power_standardized,\n",
        "                                                  x_test_power_standardized) # predict is defined in utils/functions.ipynb\n",
        "\n",
        "  RMSE_inducing_power_standardized, NLPD_inducing_power_standardized, PICP_inducing_power_standardized, MPIW_inducing_power_standardized = error_metrics(\n",
        "      x_test_power_standardized,\n",
        "      y_test_power,\n",
        "      predictions_inducing_power_standardized.mean,\n",
        "      predictions_inducing_power_standardized.variance)# error_metrics defined in utils/functions.ipynb\n",
        "\n",
        "\n",
        "  print(\"RMSE inducing: \",RMSE_inducing_power)\n",
        "  print(\"NLPD inducing: \",NLPD_inducing_power)\n",
        "  print(\"PICP inducing: \",PICP_inducing_power)\n",
        "  print(\"MPIW inducing: \",MPIW_inducing_power)\n",
        "  print(\"Time inducing: \", train_time_inducing_power)\n",
        "\n",
        "  print(\"RMSE inducing Standardized: \",RMSE_inducing_power_standardized)\n",
        "  print(\"NLPD inducing Standardized: \",NLPD_inducing_power_standardized)\n",
        "  print(\"PICP inducing Standardized: \",PICP_inducing_power_standardized)\n",
        "  print(\"MPIW inducing Standardized: \",MPIW_inducing_power_standardized)\n",
        "  print(\"Time inducing Standardized: \", train_time_inducing_power_standardized)"
      ],
      "metadata": {
        "id": "MF0YzDpD82nz"
      },
      "execution_count": null,
      "outputs": []
    },
    {
      "cell_type": "markdown",
      "source": [
        "# Exact Gaussian Process Model"
      ],
      "metadata": {
        "id": "nqPM4I-kPS8u"
      }
    },
    {
      "cell_type": "code",
      "source": [
        "exact_likelihood_power = gpytorch.likelihoods.GaussianLikelihood() # Likelihood\n",
        "exact_mean_power = gpytorch.means.ConstantMean() # Mean\n",
        "exact_kernel_power = gpytorch.kernels.MaternKernel() # Kernel\n",
        "exact_model_power = exactGP(x_train_power,\n",
        "                             y_train_power,\n",
        "                             exact_likelihood_power,\n",
        "                             exact_mean_power,\n",
        "                             exact_kernel_power) # exactGP defined in utils/Models.ipynb\n",
        "exact_model_power = exact_model_power.to(device) # Move model to device, defined in utils/models.ipynb\n",
        "\n",
        "\n",
        "# Standardized version\n",
        "\n",
        "exact_likelihood_power_standardized = gpytorch.likelihoods.GaussianLikelihood() # Likelihood\n",
        "exact_mean_power_standardized = gpytorch.means.ConstantMean() # Mean\n",
        "exact_kernel_power_standardized = gpytorch.kernels.MaternKernel() # Kernel\n",
        "exact_model_power_standardized = exactGP(x_train_power_standardized,\n",
        "                             y_train_power,\n",
        "                             exact_likelihood_power_standardized,\n",
        "                             exact_mean_power_standardized,\n",
        "                             exact_kernel_power_standardized) # exactGP defined in utils/Models.ipynb\n",
        "exact_model_power_standardized = exact_model_power_standardized.to(device) # Move model to device, defined in utils/models.ipynb"
      ],
      "metadata": {
        "id": "dGMKRByCPVUl"
      },
      "execution_count": null,
      "outputs": []
    },
    {
      "cell_type": "markdown",
      "source": [
        "# Train The Model"
      ],
      "metadata": {
        "id": "EbDfWUrlPdEZ"
      }
    },
    {
      "cell_type": "code",
      "source": [
        "train_time_exact_power = train(exact_model_power,\n",
        "                                 exact_likelihood_power,\n",
        "                                 x_train_power,\n",
        "                                 y_train_power,\n",
        "                                 training_iter= 25) # train is defined in utils/functions.ipynb\n",
        "\n",
        "\n",
        "\n",
        "train_time_exact_power_standardized = train(exact_model_power_standardized,\n",
        "                                 exact_likelihood_power_standardized,\n",
        "                                 x_train_power_standardized,\n",
        "                                 y_train_power,\n",
        "                                 training_iter= 25) # train is defined in utils/functions.ipynb"
      ],
      "metadata": {
        "id": "oRs7r4i3PehC"
      },
      "execution_count": null,
      "outputs": []
    },
    {
      "cell_type": "markdown",
      "source": [
        "# Evaluate Exact-GP"
      ],
      "metadata": {
        "id": "yN5WfYOHPe0v"
      }
    },
    {
      "cell_type": "code",
      "source": [
        "\n",
        "# Evaluate\n",
        "with torch.no_grad(), gpytorch.settings.fast_pred_var():\n",
        "  predictions_exact_power = predict(exact_model_power, exact_likelihood_power,\n",
        "                                     x_test_power) # predict is defined in utils/functions.ipynb\n",
        "  RMSE_exact_power, NLPD_exact_power, PICP_exact_power, MPIW_exact_power = error_metrics(\n",
        "      x_test_power,\n",
        "      y_test_power,\n",
        "      predictions_exact_power.mean,\n",
        "      predictions_exact_power.variance)# error_metrics defined in utils/functions.ipynb\n",
        "\n",
        "\n",
        "# Standardized\n",
        "# Evaluate\n",
        "with torch.no_grad(), gpytorch.settings.fast_pred_var():\n",
        "  predictions_exact_power_standardized = predict(exact_model_power_standardized, exact_likelihood_power_standardized,\n",
        "                                     x_test_power_standardized) # predict is defined in utils/functions.ipynb\n",
        "  RMSE_exact_power_standardized, NLPD_exact_power_standardized, PICP_exact_power_standardized, MPIW_exact_power_standardized = error_metrics(\n",
        "      x_test_power_standardized,\n",
        "      y_test_power,\n",
        "      predictions_exact_power_standardized.mean,\n",
        "      predictions_exact_power_standardized.variance)# error_metrics defined in utils/functions.ipynb\n",
        "\n",
        "\n",
        "  print(\"RMSE Exact-GP: \",RMSE_exact_power)\n",
        "  print(\"NLPD Exact-GP: \",NLPD_exact_power)\n",
        "  print(\"PICP Exact-GP: \",PICP_exact_power)\n",
        "  print(\"MPIW Exact-GP: \",MPIW_exact_power)\n",
        "  print(\"Time Exact-GP: \", train_time_exact_power)\n",
        "\n",
        "\n",
        "  print(\"RMSE Exact-GP Standardized: \",RMSE_exact_power_standardized)\n",
        "  print(\"NLPD Exact-GP Standardized: \",NLPD_exact_power_standardized)\n",
        "  print(\"PICP Exact-GP Standardized: \",PICP_exact_power_standardized)\n",
        "  print(\"MPIW Exact-GP Standardized: \",MPIW_exact_power_standardized)\n",
        "  print(\"Time Exact-GP Standardized: \", train_time_exact_power_standardized)"
      ],
      "metadata": {
        "id": "SapVwB9mPglX"
      },
      "execution_count": null,
      "outputs": []
    },
    {
      "cell_type": "markdown",
      "source": [
        "# Display Results"
      ],
      "metadata": {
        "id": "yjr5Zamd_gXj"
      }
    },
    {
      "cell_type": "code",
      "source": [
        "# Training times\n",
        "models = [\"KISS-GP\", \"Variational\", \"Inducing\", \"Exact-GP\"]\n",
        "times_power = [train_time_KISSGP_power_standardized, train_time_variational_power_standardized, train_time_inducing_power_standardized, train_time_exact_power_standardized]\n",
        "plot_bar(models, times_power, \"Training Time on Power Dataset\", \"Models\", \"Training Time(s)\") # plot_bar defined in utils/function.ipynb"
      ],
      "metadata": {
        "id": "_9SCH7FS_jYe"
      },
      "execution_count": null,
      "outputs": []
    },
    {
      "cell_type": "code",
      "source": [
        "# RMSE\n",
        "models = [\"KISS-GP\", \"Variational\", \"Inducing\", \"Exact-GP\"]\n",
        "RMSE_power = [RMSE_KISSGP_power_standardized, RMSE_variational_power_standardized, RMSE_inducing_power_standardized, RMSE_exact_power_standardized]\n",
        "plot_bar(models, RMSE_power, \"RMSE on Power Dataset\", \"Models\", \"RMSE\") # plot_bar defined in utils/function.ipynb"
      ],
      "metadata": {
        "id": "ZAqcv13KAWyw"
      },
      "execution_count": null,
      "outputs": []
    },
    {
      "cell_type": "code",
      "source": [
        "# NLPD\n",
        "models = [\"KISS-GP\", \"Variational\", \"Inducing\", \"Exact-GP\"]\n",
        "NLPD_power = [NLPD_KISSGP_power_standardized, NLPD_variational_power_standardized, NLPD_inducing_power_standardized, NLPD_exact_power_standardized]\n",
        "plot_bar(models, NLPD_power, \"NLPD on Power Dataset\", \"Models\", \"NLPD\") # plot_bar defined in utils/function.ipynb"
      ],
      "metadata": {
        "id": "4NVlYCUuAzfg"
      },
      "execution_count": null,
      "outputs": []
    },
    {
      "cell_type": "code",
      "source": [
        "# PICP\n",
        "models = [\"KISS-GP\", \"Variational\", \"Inducing\", \"Exact-GP\"]\n",
        "PICP_power = [PICP_KISSGP_power_standardized, PICP_variational_power_standardized, PICP_inducing_power_standardized, PICP_exact_power_standardized]\n",
        "plot_bar(models, PICP_power, \"PICP on Power Dataset\", \"Models\", \"PICP\") # plot_bar defined in utils/function.ipynb"
      ],
      "metadata": {
        "id": "bXnLwsecE5w6"
      },
      "execution_count": null,
      "outputs": []
    },
    {
      "cell_type": "code",
      "source": [
        "# MPIW\n",
        "models = [\"KISS-GP\", \"Variational\", \"Inducing\", \"Exact-GP\"]\n",
        "MPIW_power = [MPIW_KISSGP_power_standardized, MPIW_variational_power_standardized, MPIW_inducing_power_standardized, MPIW_exact_power_standardized]\n",
        "plot_bar(models, MPIW_power, \"MPIW on Power Dataset\", \"Models\", \"MPIW\") # plot_bar defined in utils/function.ipynb"
      ],
      "metadata": {
        "id": "w0yO07nAHBsx"
      },
      "execution_count": null,
      "outputs": []
    },
    {
      "cell_type": "code",
      "source": [
        "# Standardized or not?\n",
        "# Training Time\n",
        "models_compare = [\"KISS-GP\", \"KISS-GP_S\", \"Variational\", \"Variational_S\",  \"Inducing\", \"Inducing_S\", \"Exact-GP\", \"Exact-GP_S\"]\n",
        "time_compare = [train_time_KISSGP_power, train_time_KISSGP_power_standardized,\n",
        "                train_time_variational_power, train_time_variational_power_standardized,\n",
        "                train_time_inducing_power, train_time_inducing_power_standardized,\n",
        "                train_time_exact_power, train_time_exact_power_standardized]\n",
        "plot_bar(models_compare, time_compare, \"Training Time on Power Dataset\", \"Models\", \"Training Time(s)\") # plot_bar defined in utils/function.ipynb"
      ],
      "metadata": {
        "id": "lTTayhSW85FY"
      },
      "execution_count": null,
      "outputs": []
    },
    {
      "cell_type": "code",
      "source": [
        "# Standardized or not?\n",
        "# RMSE\n",
        "models_compare = [\"KISS-GP\", \"KISS-GP_S\", \"Variational\", \"Variational_S\",  \"Inducing\", \"Inducing_S\", \"Exact-GP\", \"Exact-GP_S\"]\n",
        "RMSE_compare = [RMSE_KISSGP_power, RMSE_KISSGP_power_standardized,\n",
        "                RMSE_variational_power, RMSE_variational_power_standardized,\n",
        "                RMSE_inducing_power, RMSE_inducing_power_standardized,\n",
        "                RMSE_exact_power,RMSE_exact_power_standardized]\n",
        "plot_bar(models_compare, RMSE_compare, \"RMSE on Power Dataset\", \"Models\", \"RMSE\") # plot_bar defined in utils/function.ipynb"
      ],
      "metadata": {
        "id": "VE4aqByd-4kl"
      },
      "execution_count": null,
      "outputs": []
    },
    {
      "cell_type": "code",
      "source": [
        "# Standardized or not?\n",
        "# NLPD\n",
        "models_compare = [\"KISS-GP\", \"KISS-GP_S\", \"Variational\", \"Variational_S\",  \"Inducing\", \"Inducing_S\", \"Exact-GP\", \"Exact-GP_S\"]\n",
        "NLPD_compare = [NLPD_KISSGP_power, NLPD_KISSGP_power_standardized,\n",
        "                NLPD_variational_power, NLPD_variational_power_standardized,\n",
        "                NLPD_inducing_power, NLPD_inducing_power_standardized,\n",
        "                NLPD_exact_power, NLPD_exact_power_standardized]\n",
        "plot_bar(models_compare, NLPD_compare, \"NLPD on Power Dataset\", \"Models\", \"NLPD\") # plot_bar defined in utils/function.ipynb"
      ],
      "metadata": {
        "id": "RKEXoyWK_Vq5"
      },
      "execution_count": null,
      "outputs": []
    },
    {
      "cell_type": "code",
      "source": [
        "# Standardized or not?\n",
        "# PICP\n",
        "models_compare = [\"KISS-GP\", \"KISS-GP_S\", \"Variational\", \"Variational_S\",  \"Inducing\", \"Inducing_S\", \"Exact-GP\", \"Exact-GP_S\"]\n",
        "PICP_compare = [PICP_KISSGP_power, PICP_KISSGP_power_standardized,\n",
        "                PICP_variational_power, PICP_variational_power_standardized,\n",
        "                PICP_inducing_power, PICP_inducing_power_standardized,\n",
        "                PICP_exact_power, PICP_exact_power_standardized]\n",
        "plot_bar(models_compare, PICP_compare, \"PICP on Power Dataset\", \"Models\", \"PICP\") # plot_bar defined in utils/function.ipynb"
      ],
      "metadata": {
        "id": "hMX6m7SK_mFQ"
      },
      "execution_count": null,
      "outputs": []
    },
    {
      "cell_type": "code",
      "source": [
        "# Standardized or not?\n",
        "# MPIW\n",
        "models_compare = [\"KISS-GP\", \"KISS-GP_S\", \"Variational\", \"Variational_S\",  \"Inducing\", \"Inducing_S\", \"Exact-GP\", \"Exact-GP_S\"]\n",
        "MPIW_compare = [MPIW_KISSGP_power, MPIW_KISSGP_power_standardized,\n",
        "                MPIW_variational_power, MPIW_variational_power_standardized,\n",
        "                MPIW_inducing_power, MPIW_inducing_power_standardized,\n",
        "                MPIW_exact_power, MPIW_exact_power_standardized]\n",
        "plot_bar(models_compare, MPIW_compare, \"MPIW on Power Dataset\", \"Models\", \"MPIW\") # plot_bar defined in utils/function.ipynb"
      ],
      "metadata": {
        "id": "Lwha3XG9_udF"
      },
      "execution_count": null,
      "outputs": []
    }
  ],
  "metadata": {
    "colab": {
      "provenance": [],
      "authorship_tag": "ABX9TyPEsGmedOEdDHnVfAdAr5Ji",
      "include_colab_link": true
    },
    "kernelspec": {
      "display_name": "Python 3",
      "name": "python3"
    },
    "language_info": {
      "name": "python"
    }
  },
  "nbformat": 4,
  "nbformat_minor": 0
}