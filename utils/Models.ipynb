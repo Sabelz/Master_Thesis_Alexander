{
  "nbformat": 4,
  "nbformat_minor": 0,
  "metadata": {
    "colab": {
      "provenance": [],
      "authorship_tag": "ABX9TyM0dAgPc0Y9BQcz04CyyvP6",
      "include_colab_link": true
    },
    "kernelspec": {
      "name": "python3",
      "display_name": "Python 3"
    },
    "language_info": {
      "name": "python"
    }
  },
  "cells": [
    {
      "cell_type": "markdown",
      "metadata": {
        "id": "view-in-github",
        "colab_type": "text"
      },
      "source": [
        "<a href=\"https://colab.research.google.com/github/Sabelz/Master_Thesis_Alexander/blob/main/utils/Models.ipynb\" target=\"_parent\"><img src=\"https://colab.research.google.com/assets/colab-badge.svg\" alt=\"Open In Colab\"/></a>"
      ]
    },
    {
      "cell_type": "markdown",
      "source": [
        "# The basic structure of all Gaussian process models"
      ],
      "metadata": {
        "id": "OpUqiOCz_SHA"
      }
    },
    {
      "cell_type": "markdown",
      "source": [
        "# Imports"
      ],
      "metadata": {
        "id": "iL1egezQ_jD2"
      }
    },
    {
      "cell_type": "code",
      "source": [
        "from google.colab import drive\n",
        "drive.mount('/content/drive')\n",
        "%cd /content/drive/MyDrive/Master_Thesis_Alexander/\n",
        "!git config --global user.email \"alexander.sabelstrom.1040@student.uu.se\"\n",
        "!git config --global user.name \"Sabelz\"\n",
        "\n",
        "import numpy as np\n",
        "import matplotlib.pyplot as plt\n",
        "import torch\n",
        "!pip install gpytorch\n",
        "import gpytorch\n",
        "print(\"----------------------------------------------------------\")\n",
        "print(\"ALL MODELS: \")"
      ],
      "metadata": {
        "colab": {
          "base_uri": "https://localhost:8080/"
        },
        "id": "E12g85x3_kxw",
        "outputId": "e3e05b2e-909d-4618-a867-5dbb3d4001c6"
      },
      "execution_count": 2,
      "outputs": [
        {
          "output_type": "stream",
          "name": "stdout",
          "text": [
            "Mounted at /content/drive\n",
            "/content/drive/MyDrive/Master_Thesis_Alexander\n",
            "Collecting gpytorch\n",
            "  Downloading gpytorch-1.11-py3-none-any.whl (266 kB)\n",
            "\u001b[2K     \u001b[90m━━━━━━━━━━━━━━━━━━━━━━━━━━━━━━━━━━━━━━━━\u001b[0m \u001b[32m266.1/266.1 kB\u001b[0m \u001b[31m5.6 MB/s\u001b[0m eta \u001b[36m0:00:00\u001b[0m\n",
            "\u001b[?25hRequirement already satisfied: scikit-learn in /usr/local/lib/python3.10/dist-packages (from gpytorch) (1.2.2)\n",
            "Collecting linear-operator>=0.5.0 (from gpytorch)\n",
            "  Downloading linear_operator-0.5.2-py3-none-any.whl (175 kB)\n",
            "\u001b[2K     \u001b[90m━━━━━━━━━━━━━━━━━━━━━━━━━━━━━━━━━━━━━━━━\u001b[0m \u001b[32m175.6/175.6 kB\u001b[0m \u001b[31m8.5 MB/s\u001b[0m eta \u001b[36m0:00:00\u001b[0m\n",
            "\u001b[?25hRequirement already satisfied: torch>=1.11 in /usr/local/lib/python3.10/dist-packages (from linear-operator>=0.5.0->gpytorch) (2.1.0+cu121)\n",
            "Requirement already satisfied: scipy in /usr/local/lib/python3.10/dist-packages (from linear-operator>=0.5.0->gpytorch) (1.11.4)\n",
            "Collecting jaxtyping>=0.2.9 (from linear-operator>=0.5.0->gpytorch)\n",
            "  Downloading jaxtyping-0.2.25-py3-none-any.whl (39 kB)\n",
            "Collecting typeguard~=2.13.3 (from linear-operator>=0.5.0->gpytorch)\n",
            "  Downloading typeguard-2.13.3-py3-none-any.whl (17 kB)\n",
            "Requirement already satisfied: numpy>=1.17.3 in /usr/local/lib/python3.10/dist-packages (from scikit-learn->gpytorch) (1.25.2)\n",
            "Requirement already satisfied: joblib>=1.1.1 in /usr/local/lib/python3.10/dist-packages (from scikit-learn->gpytorch) (1.3.2)\n",
            "Requirement already satisfied: threadpoolctl>=2.0.0 in /usr/local/lib/python3.10/dist-packages (from scikit-learn->gpytorch) (3.2.0)\n",
            "Requirement already satisfied: typing-extensions>=3.7.4.1 in /usr/local/lib/python3.10/dist-packages (from jaxtyping>=0.2.9->linear-operator>=0.5.0->gpytorch) (4.9.0)\n",
            "Requirement already satisfied: filelock in /usr/local/lib/python3.10/dist-packages (from torch>=1.11->linear-operator>=0.5.0->gpytorch) (3.13.1)\n",
            "Requirement already satisfied: sympy in /usr/local/lib/python3.10/dist-packages (from torch>=1.11->linear-operator>=0.5.0->gpytorch) (1.12)\n",
            "Requirement already satisfied: networkx in /usr/local/lib/python3.10/dist-packages (from torch>=1.11->linear-operator>=0.5.0->gpytorch) (3.2.1)\n",
            "Requirement already satisfied: jinja2 in /usr/local/lib/python3.10/dist-packages (from torch>=1.11->linear-operator>=0.5.0->gpytorch) (3.1.3)\n",
            "Requirement already satisfied: fsspec in /usr/local/lib/python3.10/dist-packages (from torch>=1.11->linear-operator>=0.5.0->gpytorch) (2023.6.0)\n",
            "Requirement already satisfied: triton==2.1.0 in /usr/local/lib/python3.10/dist-packages (from torch>=1.11->linear-operator>=0.5.0->gpytorch) (2.1.0)\n",
            "Requirement already satisfied: MarkupSafe>=2.0 in /usr/local/lib/python3.10/dist-packages (from jinja2->torch>=1.11->linear-operator>=0.5.0->gpytorch) (2.1.5)\n",
            "Requirement already satisfied: mpmath>=0.19 in /usr/local/lib/python3.10/dist-packages (from sympy->torch>=1.11->linear-operator>=0.5.0->gpytorch) (1.3.0)\n",
            "Installing collected packages: typeguard, jaxtyping, linear-operator, gpytorch\n",
            "Successfully installed gpytorch-1.11 jaxtyping-0.2.25 linear-operator-0.5.2 typeguard-2.13.3\n",
            "----------------------------------------------------------\n",
            "ALL MODELS: \n"
          ]
        }
      ]
    },
    {
      "cell_type": "markdown",
      "source": [
        "# Structured Kernel Interpollation (SKI/KISS-GP)   \n",
        "https://docs.gpytorch.ai/en/latest/examples/02_Scalable_Exact_GPs/KISSGP_Regression.html"
      ],
      "metadata": {
        "id": "uldGdSbn_e56"
      }
    },
    {
      "cell_type": "markdown",
      "source": [
        "## 1D-4D data"
      ],
      "metadata": {
        "id": "L7k92SXEBIfg"
      }
    },
    {
      "cell_type": "code",
      "source": [
        "class KISSGP(gpytorch.models.ExactGP):\n",
        "    def __init__(self, train_x, train_y, likelihood, mean, kernel):\n",
        "        super(KISSGP, self).__init__(train_x, train_y, likelihood)\n",
        "\n",
        "        # SKI requires a grid size hyperparameter. This util can help with that.\n",
        "        grid_size = gpytorch.utils.grid.choose_grid_size(train_x)\n",
        "\n",
        "        self.mean_module = mean\n",
        "        self.covar_module = gpytorch.kernels.ScaleKernel(\n",
        "            gpytorch.kernels.GridInterpolationKernel(\n",
        "                kernel, grid_size=grid_size, num_dims=train_x.shape[1]# Get dimension of training data\n",
        "            )\n",
        "        )\n",
        "\n",
        "    def forward(self, x):\n",
        "        mean_x = self.mean_module(x)\n",
        "        covar_x = self.covar_module(x)\n",
        "        return gpytorch.distributions.MultivariateNormal(mean_x, covar_x)\n",
        "print(\"KISS-GP For 1D-4D data:\")\n",
        "print(\"Example:\")\n",
        "print(\"   likelihood = gpytorch.likelihoods.GaussianLikelihood()\")\n",
        "print(\"   mean = gpytorch.means.ConstantMean()\")\n",
        "print(\"   kernel = gpytorch.kernels.RBFKernel()\")\n",
        "print(\"   model = KISSGP(train_x, train_y, likelihood, mean, kernel)\")"
      ],
      "metadata": {
        "colab": {
          "base_uri": "https://localhost:8080/"
        },
        "id": "0Uydu_wp_fgV",
        "outputId": "daa9c7d7-e7eb-432f-b78c-b53a7188e208"
      },
      "execution_count": 3,
      "outputs": [
        {
          "output_type": "stream",
          "name": "stdout",
          "text": [
            "KISS-GP For 1D-4D data:\n",
            "Example:\n",
            "   likelihood = gpytorch.likelihoods.GaussianLikelihood()\n",
            "   mean = gpytorch.means.ConstantMean()\n",
            "   kernel = gpytorch.kernels.RBFKernel()\n",
            "   model = KISSGP(train_x, train_y, likelihood, mean, kernel)\n"
          ]
        }
      ]
    },
    {
      "cell_type": "markdown",
      "source": [
        "## For higher dimensional data"
      ],
      "metadata": {
        "id": "_dQzJvNGG7O_"
      }
    },
    {
      "cell_type": "code",
      "source": [
        "class KISSGP_NDim(gpytorch.models.ExactGP):\n",
        "    def __init__(self, train_x, train_y, likelihood, mean, kernel):\n",
        "        super(KISSGP_NDim, self).__init__(train_x, train_y, likelihood)\n",
        "\n",
        "        # SKI requires a grid size hyperparameter. This util can help with that\n",
        "        # We're setting Kronecker structure to False because we're using an additive structure decomposition\n",
        "        grid_size = gpytorch.utils.grid.choose_grid_size(train_x, kronecker_structure=False)\n",
        "\n",
        "        self.mean_module = mean\n",
        "        self.covar_module = gpytorch.kernels.AdditiveStructureKernel(\n",
        "            gpytorch.kernels.ScaleKernel(\n",
        "                gpytorch.kernels.GridInterpolationKernel(\n",
        "                    kernel, grid_size=128, num_dims=1\n",
        "                )\n",
        "            ), num_dims=train_x.shape[1]# Get dimension of training data\n",
        "        )\n",
        "\n",
        "    def forward(self, x):\n",
        "        mean_x = self.mean_module(x)\n",
        "        covar_x = self.covar_module(x)\n",
        "        return gpytorch.distributions.MultivariateNormal(mean_x, covar_x)\n",
        "\n",
        "\n",
        "print(\"KISS-GP For higher dimensional data:\")\n",
        "print(\"Example:\")\n",
        "print(\"   likelihood = gpytorch.likelihoods.GaussianLikelihood()\")\n",
        "print(\"   mean = gpytorch.means.ConstantMean()\")\n",
        "print(\"   kernel = gpytorch.kernels.RBFKernel()\")\n",
        "print(\"   model = KISSGP_NDim(train_x, train_y, likelihood, mean, kernel)\")"
      ],
      "metadata": {
        "colab": {
          "base_uri": "https://localhost:8080/"
        },
        "id": "H1uwjre1HBhS",
        "outputId": "8b18fe9b-da7c-4c7a-8b06-6f6aefe03db8"
      },
      "execution_count": 5,
      "outputs": [
        {
          "output_type": "stream",
          "name": "stdout",
          "text": [
            "KISS-GP For higher dimensional data:\n",
            "Example:\n",
            "   likelihood = gpytorch.likelihoods.GaussianLikelihood()\n",
            "   mean = gpytorch.means.ConstantMean()\n",
            "   kernel = gpytorch.kernels.RBFKernel()\n",
            "   model = KISSGP_NDim(train_x, train_y, likelihood, mean, kernel)\n"
          ]
        }
      ]
    }
  ]
}