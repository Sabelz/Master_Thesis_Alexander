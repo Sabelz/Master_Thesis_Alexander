{
  "nbformat": 4,
  "nbformat_minor": 0,
  "metadata": {
    "colab": {
      "provenance": [],
      "authorship_tag": "ABX9TyPea+TL+y9ANqzbQji8dhr6",
      "include_colab_link": true
    },
    "kernelspec": {
      "name": "python3",
      "display_name": "Python 3"
    },
    "language_info": {
      "name": "python"
    }
  },
  "cells": [
    {
      "cell_type": "markdown",
      "metadata": {
        "id": "view-in-github",
        "colab_type": "text"
      },
      "source": [
        "<a href=\"https://colab.research.google.com/github/Sabelz/Master_Thesis_Alexander/blob/main/utils/models.ipynb\" target=\"_parent\"><img src=\"https://colab.research.google.com/assets/colab-badge.svg\" alt=\"Open In Colab\"/></a>"
      ]
    },
    {
      "cell_type": "markdown",
      "source": [
        "# The basic structure of all Gaussian process models"
      ],
      "metadata": {
        "id": "OpUqiOCz_SHA"
      }
    },
    {
      "cell_type": "markdown",
      "source": [
        "# Imports"
      ],
      "metadata": {
        "id": "iL1egezQ_jD2"
      }
    },
    {
      "cell_type": "code",
      "source": [
        "from google.colab import drive\n",
        "drive.mount('/content/drive')\n",
        "%cd /content/drive/MyDrive/Master_Thesis_Alexander/\n",
        "!git config --global user.email \"alexander.sabelstrom.1040@student.uu.se\"\n",
        "!git config --global user.name \"Sabelz\"\n",
        "\n",
        "import numpy as np\n",
        "import matplotlib.pyplot as plt\n",
        "import torch\n",
        "!pip install gpytorch > \\dev\\null # Suppress prints, remove \"> \\dev\\null\" for potential error messages\n",
        "import gpytorch\n",
        "# Define the device\n",
        "device = torch.device('cuda' if torch.cuda.is_available() else 'cpu')\n",
        "print(\"----------------------------------------------------------\")\n",
        "print(\"ALL MODELS: \")"
      ],
      "metadata": {
        "colab": {
          "base_uri": "https://localhost:8080/"
        },
        "id": "E12g85x3_kxw",
        "outputId": "055d9de8-3cbf-438a-88e0-d0e0365ac26e"
      },
      "execution_count": null,
      "outputs": [
        {
          "output_type": "stream",
          "name": "stdout",
          "text": [
            "Drive already mounted at /content/drive; to attempt to forcibly remount, call drive.mount(\"/content/drive\", force_remount=True).\n",
            "/content/drive/MyDrive/Master_Thesis_Alexander\n",
            "----------------------------------------------------------\n",
            "ALL MODELS: \n"
          ]
        }
      ]
    },
    {
      "cell_type": "markdown",
      "source": [
        "# Structured Kernel Interpollation (SKI/KISS-GP)   \n",
        "https://docs.gpytorch.ai/en/latest/examples/02_Scalable_Exact_GPs/KISSGP_Regression.html"
      ],
      "metadata": {
        "id": "uldGdSbn_e56"
      }
    },
    {
      "cell_type": "markdown",
      "source": [
        "## 1D-4D data"
      ],
      "metadata": {
        "id": "L7k92SXEBIfg"
      }
    },
    {
      "cell_type": "code",
      "source": [
        "class KISSGP(gpytorch.models.ExactGP):\n",
        "    def __init__(self, x_train, y_train, likelihood, mean, kernel):\n",
        "        super(KISSGP, self).__init__(x_train, y_train, likelihood)\n",
        "\n",
        "        # SKI requires a grid size hyperparameter. This util can help with that.\n",
        "        grid_size = gpytorch.utils.grid.choose_grid_size(x_train)\n",
        "        self.mean_module = mean\n",
        "        # Check dimension of x_train\n",
        "        if(x_train.dim() > 1):\n",
        "          dim = x_train.shape[1]\n",
        "        else:\n",
        "          dim = 1\n",
        "        self.covar_module = gpytorch.kernels.ScaleKernel(\n",
        "            gpytorch.kernels.GridInterpolationKernel(\n",
        "                kernel, grid_size=grid_size, num_dims = dim # Get dimension of x\n",
        "            )\n",
        "        )\n",
        "\n",
        "    def forward(self, x):\n",
        "        mean_x = self.mean_module(x)\n",
        "        covar_x = self.covar_module(x)\n",
        "        return gpytorch.distributions.MultivariateNormal(mean_x, covar_x)\n",
        "print(\"\"\"KISS-GP For 1D-4D data:\n",
        "    Example:\n",
        "      likelihood = gpytorch.likelihoods.GaussianLikelihood()\n",
        "      mean = gpytorch.means.ConstantMean()\n",
        "      kernel = gpytorch.kernels.RBFKernel()\n",
        "      model = KISSGP(x_train, y_train, likelihood, mean, kernel)\n",
        "      model = model.to(device) # Move model to device\"\"\")"
      ],
      "metadata": {
        "colab": {
          "base_uri": "https://localhost:8080/"
        },
        "id": "0Uydu_wp_fgV",
        "outputId": "417a6023-249f-49a2-98b7-c350ff4f48a0"
      },
      "execution_count": null,
      "outputs": [
        {
          "output_type": "stream",
          "name": "stdout",
          "text": [
            "KISS-GP For 1D-4D data:\n",
            "    Example:\n",
            "      likelihood = gpytorch.likelihoods.GaussianLikelihood()\n",
            "      mean = gpytorch.means.ConstantMean()\n",
            "      kernel = gpytorch.kernels.RBFKernel()\n",
            "      model = KISSGP(x_train, y_train, likelihood, mean, kernel)\n",
            "      model = model.to(device) # Move model to device\n"
          ]
        }
      ]
    },
    {
      "cell_type": "markdown",
      "source": [
        "## For higher dimensional data"
      ],
      "metadata": {
        "id": "_dQzJvNGG7O_"
      }
    },
    {
      "cell_type": "code",
      "source": [
        "class KISSGP_NDim(gpytorch.models.ExactGP):\n",
        "    def __init__(self, x_train, y_train, likelihood, mean, kernel):\n",
        "        super(KISSGP_NDim, self).__init__(x_train, y_train, likelihood)\n",
        "\n",
        "        # SKI requires a grid size hyperparameter. This util can help with that\n",
        "        # We're setting Kronecker structure to False because we're using an additive structure decomposition\n",
        "        grid_size = gpytorch.utils.grid.choose_grid_size(x_train, kronecker_structure=False)\n",
        "\n",
        "        self.mean_module = mean\n",
        "        self.covar_module = gpytorch.kernels.AdditiveStructureKernel(\n",
        "            gpytorch.kernels.ScaleKernel(\n",
        "                gpytorch.kernels.GridInterpolationKernel(\n",
        "                    kernel, grid_size=128, num_dims=1\n",
        "                )\n",
        "            ), num_dims=x_train.shape[1]# Get dimension of training data\n",
        "        )\n",
        "\n",
        "    def forward(self, x):\n",
        "        mean_x = self.mean_module(x)\n",
        "        covar_x = self.covar_module(x)\n",
        "        return gpytorch.distributions.MultivariateNormal(mean_x, covar_x)\n",
        "\n",
        "print(\"\")\n",
        "print(\"\"\"KISS-GP For higher dimensional data:\n",
        "    Example:\n",
        "      likelihood = gpytorch.likelihoods.GaussianLikelihood()\n",
        "      mean = gpytorch.means.ConstantMean()\n",
        "      kernel = gpytorch.kernels.RBFKernel()\n",
        "      model = KISSGP_NDim(x_train, y_train, likelihood, mean, kernel)\n",
        "      model = model.to(device) # Move model to device\"\"\")\n"
      ],
      "metadata": {
        "colab": {
          "base_uri": "https://localhost:8080/"
        },
        "id": "H1uwjre1HBhS",
        "outputId": "60ee1d31-d110-4f6d-f979-f2e1cf634df4"
      },
      "execution_count": null,
      "outputs": [
        {
          "output_type": "stream",
          "name": "stdout",
          "text": [
            "\n",
            "KISS-GP For higher dimensional data:\n",
            "    Example:\n",
            "      likelihood = gpytorch.likelihoods.GaussianLikelihood()\n",
            "      mean = gpytorch.means.ConstantMean()\n",
            "      kernel = gpytorch.kernels.RBFKernel()\n",
            "      model = KISSGP_NDim(x_train, y_train, likelihood, mean, kernel)\n",
            "      model = model.to(device) # Move model to device\n"
          ]
        }
      ]
    },
    {
      "cell_type": "markdown",
      "source": [
        "# Variational Distribution"
      ],
      "metadata": {
        "id": "kDmOESYRzf7G"
      }
    },
    {
      "cell_type": "code",
      "source": [
        "class variationalGP(gpytorch.models.ApproximateGP):\n",
        "    def __init__(self, likelihood, mean, kernel, inducing_points):\n",
        "        variational_distribution = gpytorch.variational.CholeskyVariationalDistribution(inducing_points.size(0))\n",
        "        variational_strategy = gpytorch.variational.VariationalStrategy(\n",
        "            self, inducing_points, variational_distribution, learn_inducing_locations=True)\n",
        "        super().__init__(variational_strategy)\n",
        "        self.mean_module = mean\n",
        "        self.covar_module = gpytorch.kernels.ScaleKernel(kernel)\n",
        "\n",
        "    def forward(self, x):\n",
        "        mean_x = self.mean_module(x)\n",
        "        covar_x = self.covar_module(x)\n",
        "        return gpytorch.distributions.MultivariateNormal(mean_x, covar_x)\n",
        "\n",
        "\n",
        "print(\"\")\n",
        "print(\"\"\" Variational GP:\n",
        "    Example:\n",
        "      likelihood = gpytorch.likelihoods.GaussianLikelihood()\n",
        "      mean = gpytorch.means.ConstantMean()\n",
        "      kernel = gpytorch.kernels.RBFKernel()\n",
        "      n_inducing_points = 500\n",
        "      inducing_points = x_train[torch.randperm(x_train.size(0))[:num_inducing_points]]\n",
        "      model = variationalGP(likelihood, mean, kernel, inducing_points)\n",
        "      model = model.to(device) # Move model to device.\"\"\")\n"
      ],
      "metadata": {
        "id": "5ICCNnrGzoj0",
        "colab": {
          "base_uri": "https://localhost:8080/"
        },
        "outputId": "9c03f544-32a6-472c-a3c8-16c51b77c053"
      },
      "execution_count": null,
      "outputs": [
        {
          "output_type": "stream",
          "name": "stdout",
          "text": [
            "\n",
            "Inducing Points GP:\n",
            "    Example:\n",
            "      likelihood = gpytorch.likelihoods.GaussianLikelihood()\n",
            "      mean = gpytorch.means.ConstantMean()\n",
            "      kernel = gpytorch.kernels.RBFKernel()\n",
            "      n_inducing_points = 500\n",
            "      inducing_points = x_train[torch.randperm(x_train.size(0))[:num_inducing_points]]\n",
            "      model = InducingGP(likelihood, mean, kernel, inducing_points)\n",
            "      model = model.to(device) # Move model to device.\n"
          ]
        }
      ]
    },
    {
      "cell_type": "markdown",
      "source": [
        "# State Space Model"
      ],
      "metadata": {
        "id": "taXKhfJETD-M"
      }
    },
    {
      "cell_type": "code",
      "source": [],
      "metadata": {
        "id": "Ppk_r-0GTJbr"
      },
      "execution_count": null,
      "outputs": []
    }
  ]
}