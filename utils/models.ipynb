{
  "nbformat": 4,
  "nbformat_minor": 0,
  "metadata": {
    "colab": {
      "provenance": [],
      "authorship_tag": "ABX9TyNb9vjnyoADo9nqU0ywBgcu",
      "include_colab_link": true
    },
    "kernelspec": {
      "name": "python3",
      "display_name": "Python 3"
    },
    "language_info": {
      "name": "python"
    }
  },
  "cells": [
    {
      "cell_type": "markdown",
      "metadata": {
        "id": "view-in-github",
        "colab_type": "text"
      },
      "source": [
        "<a href=\"https://colab.research.google.com/github/Sabelz/Master_Thesis_Alexander/blob/main/utils/models.ipynb\" target=\"_parent\"><img src=\"https://colab.research.google.com/assets/colab-badge.svg\" alt=\"Open In Colab\"/></a>"
      ]
    },
    {
      "cell_type": "markdown",
      "source": [
        "# The basic structure of all Gaussian process models"
      ],
      "metadata": {
        "id": "OpUqiOCz_SHA"
      }
    },
    {
      "cell_type": "markdown",
      "source": [
        "# Imports"
      ],
      "metadata": {
        "id": "iL1egezQ_jD2"
      }
    },
    {
      "cell_type": "code",
      "source": [
        "from google.colab import drive\n",
        "drive.mount('/content/drive')\n",
        "%cd /content/drive/MyDrive/Master_Thesis_Alexander/\n",
        "!git config --global user.email \"alexander.sabelstrom.1040@student.uu.se\"\n",
        "!git config --global user.name \"Sabelz\"\n",
        "\n",
        "import numpy as np\n",
        "import matplotlib.pyplot as plt\n",
        "import torch\n",
        "!pip install gpytorch > \\dev\\null # Suppress prints\n",
        "import gpytorch\n",
        "print(\"----------------------------------------------------------\")\n",
        "print(\"ALL MODELS: \")"
      ],
      "metadata": {
        "colab": {
          "base_uri": "https://localhost:8080/"
        },
        "id": "E12g85x3_kxw",
        "outputId": "65df172b-99cc-4d29-f2d6-70a92ec44201"
      },
      "execution_count": 7,
      "outputs": [
        {
          "output_type": "stream",
          "name": "stdout",
          "text": [
            "Drive already mounted at /content/drive; to attempt to forcibly remount, call drive.mount(\"/content/drive\", force_remount=True).\n",
            "/content/drive/MyDrive/Master_Thesis_Alexander\n",
            "----------------------------------------------------------\n",
            "ALL MODELS: \n"
          ]
        }
      ]
    },
    {
      "cell_type": "markdown",
      "source": [
        "# Structured Kernel Interpollation (SKI/KISS-GP)   \n",
        "https://docs.gpytorch.ai/en/latest/examples/02_Scalable_Exact_GPs/KISSGP_Regression.html"
      ],
      "metadata": {
        "id": "uldGdSbn_e56"
      }
    },
    {
      "cell_type": "markdown",
      "source": [
        "## 1D-4D data"
      ],
      "metadata": {
        "id": "L7k92SXEBIfg"
      }
    },
    {
      "cell_type": "code",
      "source": [
        "class KISSGP(gpytorch.models.ExactGP):\n",
        "    def __init__(self, x_train, y_train, likelihood, mean, kernel):\n",
        "        super(KISSGP, self).__init__(x_train, y_train, likelihood)\n",
        "\n",
        "        # SKI requires a grid size hyperparameter. This util can help with that.\n",
        "        grid_size = gpytorch.utils.grid.choose_grid_size(x_train)\n",
        "        self.mean_module = mean\n",
        "        self.covar_module = gpytorch.kernels.ScaleKernel(\n",
        "            gpytorch.kernels.GridInterpolationKernel(\n",
        "                kernel, grid_size=grid_size, num_dims = x_train.dim() # Get dimension of x\n",
        "            )\n",
        "        )\n",
        "\n",
        "    def forward(self, x):\n",
        "        mean_x = self.mean_module(x)\n",
        "        covar_x = self.covar_module(x)\n",
        "        return gpytorch.distributions.MultivariateNormal(mean_x, covar_x)\n",
        "print(\"KISS-GP For 1D-4D data:\")\n",
        "print(\"Example:\")\n",
        "print(\"   likelihood = gpytorch.likelihoods.GaussianLikelihood()\")\n",
        "print(\"   mean = gpytorch.means.ConstantMean()\")\n",
        "print(\"   kernel = gpytorch.kernels.RBFKernel()\")\n",
        "print(\"   model = KISSGP(x_train, y_train, likelihood, mean, kernel)\")\n",
        "print(\"\")"
      ],
      "metadata": {
        "colab": {
          "base_uri": "https://localhost:8080/"
        },
        "id": "0Uydu_wp_fgV",
        "outputId": "a1a885c3-acbd-4437-d423-11bb0dd22307"
      },
      "execution_count": 8,
      "outputs": [
        {
          "output_type": "stream",
          "name": "stdout",
          "text": [
            "KISS-GP For 1D-4D data:\n",
            "Example:\n",
            "   likelihood = gpytorch.likelihoods.GaussianLikelihood()\n",
            "   mean = gpytorch.means.ConstantMean()\n",
            "   kernel = gpytorch.kernels.RBFKernel()\n",
            "   model = KISSGP(x_train, y_train, likelihood, mean, kernel)\n",
            "\n"
          ]
        }
      ]
    },
    {
      "cell_type": "markdown",
      "source": [
        "## For higher dimensional data"
      ],
      "metadata": {
        "id": "_dQzJvNGG7O_"
      }
    },
    {
      "cell_type": "code",
      "source": [
        "class KISSGP_NDim(gpytorch.models.ExactGP):\n",
        "    def __init__(self, x_train, y_train, likelihood, mean, kernel):\n",
        "        super(KISSGP_NDim, self).__init__(x_train, y_train, likelihood)\n",
        "\n",
        "        # SKI requires a grid size hyperparameter. This util can help with that\n",
        "        # We're setting Kronecker structure to False because we're using an additive structure decomposition\n",
        "        grid_size = gpytorch.utils.grid.choose_grid_size(x_train, kronecker_structure=False)\n",
        "\n",
        "        self.mean_module = mean\n",
        "        self.covar_module = gpytorch.kernels.AdditiveStructureKernel(\n",
        "            gpytorch.kernels.ScaleKernel(\n",
        "                gpytorch.kernels.GridInterpolationKernel(\n",
        "                    kernel, grid_size=128, num_dims=1\n",
        "                )\n",
        "            ), num_dims=x_train.dim()# Get dimension of training data\n",
        "        )\n",
        "\n",
        "    def forward(self, x):\n",
        "        mean_x = self.mean_module(x)\n",
        "        covar_x = self.covar_module(x)\n",
        "        return gpytorch.distributions.MultivariateNormal(mean_x, covar_x)\n",
        "\n",
        "print(\"\")\n",
        "print(\"KISS-GP For higher dimensional data:\")\n",
        "print(\"Example:\")\n",
        "print(\"   likelihood = gpytorch.likelihoods.GaussianLikelihood()\")\n",
        "print(\"   mean = gpytorch.means.ConstantMean()\")\n",
        "print(\"   kernel = gpytorch.kernels.RBFKernel()\")\n",
        "print(\"   model = KISSGP_NDim(x_train, y_train, likelihood, mean, kernel)\")\n"
      ],
      "metadata": {
        "colab": {
          "base_uri": "https://localhost:8080/"
        },
        "id": "H1uwjre1HBhS",
        "outputId": "b71f518a-2714-4a7f-8b9c-4c3ac0b4ca34"
      },
      "execution_count": 9,
      "outputs": [
        {
          "output_type": "stream",
          "name": "stdout",
          "text": [
            "\n",
            "KISS-GP For higher dimensional data:\n",
            "Example:\n",
            "   likelihood = gpytorch.likelihoods.GaussianLikelihood()\n",
            "   mean = gpytorch.means.ConstantMean()\n",
            "   kernel = gpytorch.kernels.RBFKernel()\n",
            "   model = KISSGP_NDim(x_train, y_train, likelihood, mean, kernel)\n"
          ]
        }
      ]
    }
  ]
}