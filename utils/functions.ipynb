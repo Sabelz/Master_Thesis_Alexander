{
  "nbformat": 4,
  "nbformat_minor": 0,
  "metadata": {
    "colab": {
      "provenance": [],
      "authorship_tag": "ABX9TyOzH++wqAbZQiCzuMEhSH73",
      "include_colab_link": true
    },
    "kernelspec": {
      "name": "python3",
      "display_name": "Python 3"
    },
    "language_info": {
      "name": "python"
    }
  },
  "cells": [
    {
      "cell_type": "markdown",
      "metadata": {
        "id": "view-in-github",
        "colab_type": "text"
      },
      "source": [
        "<a href=\"https://colab.research.google.com/github/Sabelz/Master_Thesis_Alexander/blob/main/utils/functions.ipynb\" target=\"_parent\"><img src=\"https://colab.research.google.com/assets/colab-badge.svg\" alt=\"Open In Colab\"/></a>"
      ]
    },
    {
      "cell_type": "markdown",
      "source": [
        "# Functions for the project"
      ],
      "metadata": {
        "id": "7PrRN4ckBB6o"
      }
    },
    {
      "cell_type": "markdown",
      "source": [
        "# Imports"
      ],
      "metadata": {
        "id": "EkZuAB9jBwQB"
      }
    },
    {
      "cell_type": "code",
      "source": [
        "from google.colab import drive\n",
        "drive.mount('/content/drive')\n",
        "%cd /content/drive/MyDrive/Master_Thesis_Alexander\n",
        "!git config --global user.email \"alexander.sabelstrom.1040@student.uu.se\"\n",
        "!git config --global user.name \"Sabelz\"\n",
        "\n",
        "import numpy as np\n",
        "import matplotlib.pyplot as plt\n",
        "import torch\n",
        "!pip install gpytorch > \\dev\\null # Suppress prints\n",
        "import gpytorch\n",
        "from matplotlib import pyplot as plt"
      ],
      "metadata": {
        "colab": {
          "base_uri": "https://localhost:8080/"
        },
        "id": "l56clfMhBHm_",
        "outputId": "8447b978-621b-4bdb-ca4c-917522c28244"
      },
      "execution_count": null,
      "outputs": [
        {
          "output_type": "stream",
          "name": "stdout",
          "text": [
            "Mounted at /content/drive\n",
            "/content/drive/MyDrive/Master_Thesis_Alexander\n"
          ]
        }
      ]
    },
    {
      "cell_type": "markdown",
      "source": [
        "# Training Function"
      ],
      "metadata": {
        "id": "PibOrFKwChDi"
      }
    },
    {
      "cell_type": "code",
      "source": [
        "def train(model, likelihood, x_train, y_train, training_iter=10):\n",
        "    \"\"\"\n",
        "    Trains a Gaussian Process (GP) model using the ExactMarginalLogLikelihood loss function.\n",
        "\n",
        "    Parameters:\n",
        "    model (gpytorch.models.ExactGP): The GP model to be trained.\n",
        "    likelihood (gpytorch.likelihoods._OneDimensionalLikelihood): The likelihood function to be used with the model.\n",
        "    x_train (torch.Tensor): The training data.\n",
        "    y_train (torch.Tensor): The labels for the training data.\n",
        "    training_iter (int, optional): The number of training iterations. Default is 10.\n",
        "    train_loader (torch.utils.data.DataLoader, optional):\n",
        "\n",
        "    Returns:\n",
        "    None. The function operates in-place on the `model` and `likelihood` objects.\n",
        "\n",
        "    Note:\n",
        "    The function moves the model and likelihood to GPU if available and uses the Adam optimizer for training.\n",
        "    \"\"\"\n",
        "    if torch.cuda.is_available():\n",
        "      model = model.cuda()\n",
        "      likelihood = likelihood.cuda()\n",
        "    model.train()\n",
        "    likelihood.train()\n",
        "    # Use the adam optimizer\n",
        "    optimizer = torch.optim.Adam(model.parameters(), lr=0.1)  # Includes GaussianLikelihood parameters\n",
        "\n",
        "    # \"Loss\" for GPs - the marginal log likelihood\n",
        "    mll = gpytorch.mlls.ExactMarginalLogLikelihood(likelihood, model)\n",
        "    for i in range(training_iter):\n",
        "        # Zero gradients from previous iteration\n",
        "        optimizer.zero_grad()\n",
        "        # Output from model\n",
        "        output = model(x_train)\n",
        "        # Calc loss and backprop gradients\n",
        "        loss = -mll(output, y_train)\n",
        "        loss.backward()\n",
        "        optimizer.step()\n",
        "\n"
      ],
      "metadata": {
        "id": "fGH9HHCGCjoZ"
      },
      "execution_count": null,
      "outputs": []
    },
    {
      "cell_type": "markdown",
      "source": [
        "# Training Function for Inducing Points GP"
      ],
      "metadata": {
        "id": "I4s18iGu91tz"
      }
    },
    {
      "cell_type": "code",
      "source": [
        "def train_ELBO(model, likelihood, x_train, y_train, training_iter=10, train_loader=None):\n",
        "    \"\"\"\n",
        "    Trains a Gaussian Process (GP) model using the VariationalELBO loss function.\n",
        "\n",
        "    Parameters:\n",
        "    model (gpytorch.models.ApproximateGP): The GP model to be trained.\n",
        "    likelihood (gpytorch.likelihoods._OneDimensionalLikelihood): The likelihood function to be used with the model.\n",
        "    x_train (torch.Tensor): The training data.\n",
        "    y_train (torch.Tensor): The labels for the training data.\n",
        "    training_iter (int, optional): The number of training iterations. Default is 10.\n",
        "    train_loader (torch.utils.data.DataLoader, optional):\n",
        "    The DataLoader that provides batches of the training data.\n",
        "    If None, the entire training dataset is used in each iteration.\n",
        "\n",
        "    Returns:\n",
        "    None. The function operates in-place on the `model` and `likelihood` objects.\n",
        "\n",
        "    Note:\n",
        "    The function moves the model and likelihood to GPU if available and uses the Adam optimizer for training.\n",
        "    \"\"\"\n",
        "    if torch.cuda.is_available():\n",
        "      model = model.cuda()\n",
        "      likelihood = likelihood.cuda()\n",
        "    # Parameters and and input data should be of same dtype\n",
        "    model = model.double()\n",
        "    likelihood = likelihood.double()\n",
        "\n",
        "    model.train()\n",
        "    likelihood.train()\n",
        "    # Initialize MLL\n",
        "    n_points = y_train.numel() # Amount of training points\n",
        "    # Yes, when training a variational Gaussian Process (GP) model like ApproximateGP,\n",
        "    # you should use a variational marginal log likelihood (MLL) instead of the exact MLL.\n",
        "    mll = gpytorch.mlls.VariationalELBO(likelihood, model, n_points) # Loss\n",
        "    # Use the adam optimizer\n",
        "    optimizer = torch.optim.Adam(list(model.parameters()) + list(likelihood.parameters()), lr=0.1)\n",
        "\n",
        "    if(train_loader == None):\n",
        "      for i in range(training_iter):\n",
        "          # Zero gradients from previous iteration\n",
        "          optimizer.zero_grad()\n",
        "          # Output from model\n",
        "          output = model(x_train)\n",
        "          # Calc loss and backprop gradients\n",
        "          loss = -mll(output, y_train)\n",
        "          loss.backward()\n",
        "          optimizer.step()\n",
        "    else: # If train_loader defined, use it\n",
        "      for i in range(training_iter):\n",
        "        for x_batch, y_batch in train_loader:\n",
        "          # Zero gradients from previous iteration\n",
        "          optimizer.zero_grad()\n",
        "          # Output from model\n",
        "          output = model(x_batch)\n",
        "          # Calc loss and backprop gradients\n",
        "          loss = -mll(output, y_batch)\n",
        "          loss.backward()\n",
        "          optimizer.step()"
      ],
      "metadata": {
        "id": "QUHDTM7_957k"
      },
      "execution_count": null,
      "outputs": []
    },
    {
      "cell_type": "markdown",
      "source": [
        "# Predict Function"
      ],
      "metadata": {
        "id": "ucNcGiyBIrFj"
      }
    },
    {
      "cell_type": "code",
      "source": [
        "def predict(model, likelihood, test_x):\n",
        "    \"\"\"\n",
        "    This function makes predictions using a given model and likelihood.\n",
        "\n",
        "    The function sets the model and likelihood to evaluation mode,\n",
        "    then computes the likelihood of the model's predictions on the test data.\n",
        "    It uses PyTorch's `no_grad` context manager to avoid tracking gradients during the prediction,\n",
        "    and GPyTorch's `fast_pred_var` setting for efficient computation.\n",
        "\n",
        "    Parameters:\n",
        "    model (gpytorch.models.GP): The Gaussian Process model to make predictions with.\n",
        "    likelihood (gpytorch.likelihoods.Likelihood): The likelihood associated with the model.\n",
        "    test_x (torch.Tensor): The test inputs to make predictions on.\n",
        "\n",
        "    Returns:\n",
        "    gpytorch.distributions.MultivariateNormal: The distribution of the model's predictions.\n",
        "    \"\"\"\n",
        "    model.eval()\n",
        "    likelihood.eval()\n",
        "    # Make predictions by feeding model through likelihood\n",
        "    with torch.no_grad(), gpytorch.settings.fast_pred_var():\n",
        "        return likelihood(model(test_x))"
      ],
      "metadata": {
        "id": "WcjCXqaNIs8Z"
      },
      "execution_count": null,
      "outputs": []
    },
    {
      "cell_type": "markdown",
      "source": [
        "# Plot Function"
      ],
      "metadata": {
        "id": "Zl5fIjXW-tGa"
      }
    },
    {
      "cell_type": "code",
      "source": [
        "def plotGP(x_train, y_train, model, likelihood, title=\"GP Model\"):\n",
        "  \"\"\"\n",
        "    This function plots the Gaussian Process regression model along with the observed data.\n",
        "\n",
        "    Parameters:\n",
        "    x_train (torch.Tensor): The training inputs.\n",
        "    y_train (torch.Tensor): The training targets.\n",
        "    model (gpytorch.models.GP): The Gaussian Process regression model.\n",
        "    likelihood (gpytorch.likelihoods.Likelihood): The likelihood function to use for the model.\n",
        "    title (str, optional): The title of the plot. Defaults to \"GP Model\".\n",
        "\n",
        "    Returns:\n",
        "    None. The function creates a plot and does not return anything.\n",
        "\n",
        "    \"\"\"\n",
        "  # Find min and max value of training set\n",
        "  min_value, max_value = min(x_train), max(x_train)\n",
        "  # Create points between min and max values\n",
        "  x_plot = torch.linspace(min_value, max_value, 1000)\n",
        "  # Evaluate on plot values\n",
        "  prediction = likelihood(model(x_plot))\n",
        "  mean = prediction.mean\n",
        "  variance = prediction.variance\n",
        "  with torch.no_grad(), gpytorch.settings.fast_pred_var():\n",
        "    # Initalize plot\n",
        "    plt.style.use('dark_background')\n",
        "\n",
        "    f, ax = plt.subplots(1, 1, figsize=(4, 3))\n",
        "\n",
        "    # Confidence region\n",
        "    lower_bound = mean-(2*(np.sqrt(variance)))\n",
        "    upper_bound = mean+(2*(np.sqrt(variance)))\n",
        "\n",
        "    ax.plot(x_train.detach().numpy(), y_train.detach().numpy(), 'wo')\n",
        "    # Plot predictive means\n",
        "    ax.plot(x_plot.detach().numpy(), mean.detach().numpy(), 'violet')\n",
        "    # Plot confidence bounds as lightly shaded region\n",
        "    ax.fill_between(x_plot.detach().numpy(), lower_bound.detach().numpy(), upper_bound.detach().numpy(), alpha=0.5)\n",
        "    ax.set_title(title)\n",
        "    ax.legend(['Observed Data', 'Mean', 'Confidence'])\n",
        "    plt.grid(False)\n",
        "    ax.plot\n"
      ],
      "metadata": {
        "id": "hHUNXmPq-vhV"
      },
      "execution_count": null,
      "outputs": []
    }
  ]
}