{
  "nbformat": 4,
  "nbformat_minor": 0,
  "metadata": {
    "colab": {
      "provenance": [],
      "authorship_tag": "ABX9TyP2uCKJ4a0Ornlfe4CYNbl1",
      "include_colab_link": true
    },
    "kernelspec": {
      "name": "python3",
      "display_name": "Python 3"
    },
    "language_info": {
      "name": "python"
    }
  },
  "cells": [
    {
      "cell_type": "markdown",
      "metadata": {
        "id": "view-in-github",
        "colab_type": "text"
      },
      "source": [
        "<a href=\"https://colab.research.google.com/github/Sabelz/Master_Thesis_Alexander/blob/main/utils/functions.ipynb\" target=\"_parent\"><img src=\"https://colab.research.google.com/assets/colab-badge.svg\" alt=\"Open In Colab\"/></a>"
      ]
    },
    {
      "cell_type": "markdown",
      "source": [
        "# Functions for the project"
      ],
      "metadata": {
        "id": "7PrRN4ckBB6o"
      }
    },
    {
      "cell_type": "markdown",
      "source": [
        "# Imports"
      ],
      "metadata": {
        "id": "EkZuAB9jBwQB"
      }
    },
    {
      "cell_type": "code",
      "source": [
        "from google.colab import drive\n",
        "drive.mount('/content/drive')\n",
        "%cd /content/drive/MyDrive/Master_Thesis_Alexander\n",
        "!git config --global user.email \"alexander.sabelstrom.1040@student.uu.se\"\n",
        "!git config --global user.name \"Sabelz\"\n",
        "\n",
        "import numpy as np\n",
        "import matplotlib.pyplot as plt\n",
        "import torch\n",
        "!pip install gpytorch > \\dev\\null # Suppress prints\n",
        "import gpytorch\n",
        "from matplotlib import pyplot as plt\n",
        "import math\n",
        "import jax\n",
        "import jax.numpy as jnp"
      ],
      "metadata": {
        "colab": {
          "base_uri": "https://localhost:8080/"
        },
        "id": "l56clfMhBHm_",
        "outputId": "72a5297e-a149-4885-904e-bf51d2344b8a"
      },
      "execution_count": 1,
      "outputs": [
        {
          "output_type": "stream",
          "name": "stdout",
          "text": [
            "Mounted at /content/drive\n",
            "/content/drive/MyDrive/Master_Thesis_Alexander\n"
          ]
        }
      ]
    },
    {
      "cell_type": "markdown",
      "source": [
        "# Training Function"
      ],
      "metadata": {
        "id": "PibOrFKwChDi"
      }
    },
    {
      "cell_type": "code",
      "source": [
        "def train(model, likelihood, x_train, y_train, training_iter=10):\n",
        "    \"\"\"\n",
        "    Trains a Gaussian Process (GP) model using the ExactMarginalLogLikelihood loss function.\n",
        "\n",
        "    Parameters:\n",
        "    model (gpytorch.models.ExactGP): The GP model to be trained.\n",
        "    likelihood (gpytorch.likelihoods._OneDimensionalLikelihood): The likelihood function to be used with the model.\n",
        "    x_train (torch.Tensor): The training data.\n",
        "    y_train (torch.Tensor): The labels for the training data.\n",
        "    training_iter (int, optional): The number of training iterations. Default is 10.\n",
        "    train_loader (torch.utils.data.DataLoader, optional):\n",
        "\n",
        "    Returns:\n",
        "    None. The function operates in-place on the `model` and `likelihood` objects.\n",
        "\n",
        "    Note:\n",
        "    The function moves the model and likelihood to GPU if available and uses the Adam optimizer for training.\n",
        "    \"\"\"\n",
        "    if torch.cuda.is_available():\n",
        "      model = model.cuda()\n",
        "      likelihood = likelihood.cuda()\n",
        "    model.train()\n",
        "    likelihood.train()\n",
        "    # Use the adam optimizer\n",
        "    optimizer = torch.optim.Adam(model.parameters(), lr=0.1)  # Includes GaussianLikelihood parameters\n",
        "\n",
        "    # \"Loss\" for GPs - the marginal log likelihood\n",
        "    mll = gpytorch.mlls.ExactMarginalLogLikelihood(likelihood, model)\n",
        "    for i in range(training_iter):\n",
        "        # Zero gradients from previous iteration\n",
        "        optimizer.zero_grad()\n",
        "        # Output from model\n",
        "        output = model(x_train)\n",
        "        # Calc loss and backprop gradients\n",
        "        loss = -mll(output, y_train)\n",
        "        loss.backward()\n",
        "        optimizer.step()\n",
        "\n"
      ],
      "metadata": {
        "id": "fGH9HHCGCjoZ"
      },
      "execution_count": 2,
      "outputs": []
    },
    {
      "cell_type": "markdown",
      "source": [
        "# Training Function for Inducing Points GP"
      ],
      "metadata": {
        "id": "I4s18iGu91tz"
      }
    },
    {
      "cell_type": "code",
      "source": [
        "def train_ELBO(model, likelihood, x_train, y_train, training_iter=10, train_loader=None):\n",
        "    \"\"\"\n",
        "    Trains a Gaussian Process (GP) model using the VariationalELBO loss function.\n",
        "\n",
        "    Parameters:\n",
        "    model (gpytorch.models.ApproximateGP): The GP model to be trained.\n",
        "    likelihood (gpytorch.likelihoods._OneDimensionalLikelihood): The likelihood function to be used with the model.\n",
        "    x_train (torch.Tensor): The training data.\n",
        "    y_train (torch.Tensor): The labels for the training data.\n",
        "    training_iter (int, optional): The number of training iterations. Default is 10.\n",
        "    train_loader (torch.utils.data.DataLoader, optional):\n",
        "    The DataLoader that provides batches of the training data.\n",
        "    If None, the entire training dataset is used in each iteration.\n",
        "\n",
        "    Returns:\n",
        "    None. The function operates in-place on the `model` and `likelihood` objects.\n",
        "\n",
        "    Note:\n",
        "    The function moves the model and likelihood to GPU if available and uses the Adam optimizer for training.\n",
        "    \"\"\"\n",
        "    if torch.cuda.is_available():\n",
        "      model = model.cuda()\n",
        "      likelihood = likelihood.cuda()\n",
        "    # Parameters and and input data should be of same dtype\n",
        "    model = model.double()\n",
        "    likelihood = likelihood.double()\n",
        "\n",
        "    model.train()\n",
        "    likelihood.train()\n",
        "    # Initialize MLL\n",
        "    n_points = y_train.numel() # Amount of training points\n",
        "    # Yes, when training a variational Gaussian Process (GP) model like ApproximateGP,\n",
        "    # you should use a variational marginal log likelihood (MLL) instead of the exact MLL.\n",
        "    mll = gpytorch.mlls.VariationalELBO(likelihood, model, n_points) # Loss\n",
        "    # Use the adam optimizer\n",
        "    optimizer = torch.optim.Adam(list(model.parameters()) + list(likelihood.parameters()), lr=0.1)\n",
        "\n",
        "    if(train_loader == None):\n",
        "      for i in range(training_iter):\n",
        "          # Zero gradients from previous iteration\n",
        "          optimizer.zero_grad()\n",
        "          # Output from model\n",
        "          output = model(x_train)\n",
        "          # Calc loss and backprop gradients\n",
        "          loss = -mll(output, y_train)\n",
        "          loss.backward()\n",
        "          optimizer.step()\n",
        "    else: # If train_loader defined, use it\n",
        "      for i in range(training_iter):\n",
        "        for x_batch, y_batch in train_loader:\n",
        "          # Zero gradients from previous iteration\n",
        "          optimizer.zero_grad()\n",
        "          # Output from model\n",
        "          output = model(x_batch)\n",
        "          # Calc loss and backprop gradients\n",
        "          loss = -mll(output, y_batch)\n",
        "          loss.backward()\n",
        "          optimizer.step()"
      ],
      "metadata": {
        "id": "QUHDTM7_957k"
      },
      "execution_count": null,
      "outputs": []
    },
    {
      "cell_type": "markdown",
      "source": [
        "# Predict Function"
      ],
      "metadata": {
        "id": "ucNcGiyBIrFj"
      }
    },
    {
      "cell_type": "code",
      "source": [
        "def predict(model, likelihood, test_x):\n",
        "    \"\"\"\n",
        "    This function makes predictions using a given model and likelihood.\n",
        "\n",
        "    The function sets the model and likelihood to evaluation mode,\n",
        "    then computes the likelihood of the model's predictions on the test data.\n",
        "    It uses PyTorch's `no_grad` context manager to avoid tracking gradients during the prediction,\n",
        "    and GPyTorch's `fast_pred_var` setting for efficient computation.\n",
        "\n",
        "    Parameters:\n",
        "    model (gpytorch.models.GP): The Gaussian Process model to make predictions with.\n",
        "    likelihood (gpytorch.likelihoods.Likelihood): The likelihood associated with the model.\n",
        "    test_x (torch.Tensor): The test inputs to make predictions on.\n",
        "\n",
        "    Returns:\n",
        "    gpytorch.distributions.MultivariateNormal: The distribution of the model's predictions.\n",
        "    \"\"\"\n",
        "    model.eval()\n",
        "    likelihood.eval()\n",
        "    # Make predictions by feeding model through likelihood\n",
        "    with torch.no_grad(), gpytorch.settings.fast_pred_var():\n",
        "        return likelihood(model(test_x))"
      ],
      "metadata": {
        "id": "WcjCXqaNIs8Z"
      },
      "execution_count": null,
      "outputs": []
    },
    {
      "cell_type": "markdown",
      "source": [
        "# Plot Function GPyTorch"
      ],
      "metadata": {
        "id": "Zl5fIjXW-tGa"
      }
    },
    {
      "cell_type": "code",
      "source": [
        "def plotGP(x_train, y_train, model, likelihood, title=\"GP Model\"):\n",
        "  \"\"\"\n",
        "  This function plots the Gaussian Process regression model along with the observed data.\n",
        "\n",
        "  Parameters:\n",
        "  x_train (torch.Tensor): The training inputs.\n",
        "  y_train (torch.Tensor): The training targets.\n",
        "  model (gpytorch.models.GP): The Gaussian Process regression model.\n",
        "  likelihood (gpytorch.likelihoods.Likelihood): The likelihood function to use for the model.\n",
        "  title (str, optional): The title of the plot. Defaults to \"GP Model\".\n",
        "\n",
        "  Returns:\n",
        "  None. The function creates a plot and does not return anything.\n",
        "\n",
        "  \"\"\"\n",
        "  # Find min and max value of training set\n",
        "  min_value, max_value = min(x_train), max(x_train)\n",
        "  # Create points between min and max values\n",
        "  x_plot = torch.linspace(min_value, max_value, 1000)\n",
        "  # Evaluate on plot values\n",
        "  prediction = likelihood(model(x_plot))\n",
        "  mean = prediction.mean\n",
        "  variance = prediction.variance\n",
        "  with torch.no_grad(), gpytorch.settings.fast_pred_var():\n",
        "    # Initalize plot\n",
        "    plt.style.use('classic')\n",
        "    _, ax = plt.subplots(1, 1, figsize=(4, 3))\n",
        "\n",
        "    # Confidence region\n",
        "    lower_bound = mean-(1.96*(np.sqrt(variance)))\n",
        "    upper_bound = mean+(1.96*(np.sqrt(variance)))\n",
        "\n",
        "    ax.plot(x_train.detach().numpy(), y_train.detach().numpy(), 'ko')\n",
        "    # Plot predictive means\n",
        "    ax.plot(x_plot.detach().numpy(), mean.detach().numpy(), 'purple')\n",
        "    # Plot confidence bounds as lightly shaded region\n",
        "    ax.fill_between(x_plot.detach().numpy(), lower_bound.detach().numpy(),\n",
        "                    upper_bound.detach().numpy(), alpha=0.5, color=\"violet\", zorder=-1)\n",
        "    ax.set_title(title)\n",
        "    ax.legend(['Observed Data', 'Mean', '95% Confidence'])\n",
        "    plt.grid(False)\n",
        "    ax.plot\n"
      ],
      "metadata": {
        "id": "hHUNXmPq-vhV"
      },
      "execution_count": 4,
      "outputs": []
    },
    {
      "cell_type": "markdown",
      "source": [
        "# Plot Function for State Space Model"
      ],
      "metadata": {
        "id": "_WgPoepdpl3-"
      }
    },
    {
      "cell_type": "code",
      "source": [
        "def plotGP_SS(x_train, y_train, ell=1, sigma=1, m0=0, v0=1, title=\"GP Model\", n_test_points=1000):\n",
        "  # Find min and max value of training set\n",
        "  min_value, max_value = min(x_train).numpy(), max(x_train).numpy()\n",
        "  # Create points between min and max values\n",
        "  x_test = np.linspace(min_value, max_value, 1000)\n",
        "\n",
        "  all_points = jnp.concatenate([x_train.numpy(), x_test])\n",
        "  temporal_order = jnp.argsort(all_points)\n",
        "  # State Space X's and Y's\n",
        "  ss_xs = all_points[temporal_order]\n",
        "  ss_ys = jnp.concatenate([y_train.numpy(), jnp.nan * jnp.ones((n_test_points, ))])[temporal_order]\n",
        "  # Compute the equivalent SS model\n",
        "  dts = jnp.diff(ss_xs, prepend=min_value.item())\n",
        "  Fs = jnp.exp(-1 / ell * dts)\n",
        "  Ws = sigma ** 2 * (1 - jnp.exp(-2 / ell * dts))\n",
        "  mfs, vfs, mps, vps = kalmanFilter(ss_ys, Fs, Ws, m0 = m0, v0=v0)\n",
        "  # Smoothed means and variances\n",
        "  mss, vss = kalmanSmoothing(Fs, mfs, vfs, mps, vps)\n",
        "\n",
        "  # Posterior distribution\n",
        "  ss_posterior_mean = mss[jnp.isnan(ss_ys)]\n",
        "  ss_posterior_var = vss[jnp.isnan(ss_ys)]\n",
        "\n",
        "  plt.style.use('default')\n",
        "  _, ax = plt.subplots(1, 1)\n",
        "\n",
        "  ax.scatter(x_train.detach().numpy(), y_train.detach().numpy(), color='k', marker='o', label='Observed data')\n",
        "  ax.plot(x_test, ss_posterior_mean, label=\"Mean\", color = 'purple', alpha = 1)\n",
        "  ax.fill_between(x_test,\n",
        "                      ss_posterior_mean - 1.96 * jnp.sqrt(ss_posterior_var),\n",
        "                      ss_posterior_mean + 1.96 * jnp.sqrt(ss_posterior_var),\n",
        "                      alpha=0.5,\n",
        "                     label=\"95% Confidence\", color = \"violet\", zorder=-1)\n",
        "  ax.set_title(title)\n",
        "  ax.set_xlim([min_value, max_value])\n",
        "  ax.legend()\n",
        "  plt.grid(False)\n",
        "  ax.plot"
      ],
      "metadata": {
        "id": "YEuWV06Fp1HR"
      },
      "execution_count": null,
      "outputs": []
    },
    {
      "cell_type": "markdown",
      "source": [
        "# Kalman Filter and Smoother"
      ],
      "metadata": {
        "id": "hEWGoryjYDA9"
      }
    },
    {
      "cell_type": "code",
      "source": [
        "def kalmanFilter(ss_ys, Fs, Ws, m0=0, v0=1, observation_cov=1):\n",
        "    \"\"\"\n",
        "    Implements the Kalman Filter algorithm for a given set of observations.\n",
        "\n",
        "    The function consists of two nested functions: `update` and `scan_body`.\n",
        "    The `update` function is responsible for updating the mean and variance\n",
        "    based on the observation and the observation covariance. The `scan_body`\n",
        "    function is used to scan through the observations and update the mean and\n",
        "    variance accordingly.\n",
        "\n",
        "    The function returns four arrays: `mfs`, `vfs`, `mps`, and `vps` which represent\n",
        "    the filtered means, filtered variances, predicted means, and predicted variances\n",
        "    respectively.\n",
        "\n",
        "    Note: This function uses the `jax.lax.scan` function for efficient looping over\n",
        "    the observations, and `jax.lax.cond` for conditionally updating the mean and\n",
        "    variance based on whether the observation is NaN.\n",
        "\n",
        "    Args:\n",
        "        m0 (float, optional): Initial mean for the Kalman filter. Defaults to 0.\n",
        "        v0 (float, optional): Initial variance for the Kalman filter. Defaults to 1.\n",
        "        ss_ys (array): Observations in the state space model.\n",
        "        Fs (array): Array of transition matrices.\n",
        "        Ws (array): Process noise covariance in the state space model.\n",
        "        observation_cov (float, optional): Observation covariance. Defaults to 1.\n",
        "\n",
        "    Returns:\n",
        "        mfs (array): Filtered means\n",
        "        vfs (array): Filtered variances\n",
        "        mps (array): Predicted means\n",
        "        vps (array): Predicted variances\n",
        "    \"\"\"\n",
        "    def update(y, mp, vp, observation_cov = 1):\n",
        "        S = vp + observation_cov\n",
        "        K = vp / S\n",
        "        v = y - mp\n",
        "        mf = mp + K * v\n",
        "        vf = vp - K * K * S\n",
        "        return mf, vf\n",
        "\n",
        "    def scan_body(carry, elem):\n",
        "        mf, vf = carry\n",
        "        y, F, W = elem\n",
        "\n",
        "        mp = F * mf\n",
        "        vp = F * vf * F + W\n",
        "\n",
        "        mf, vf = jax.lax.cond(jnp.isnan(y),\n",
        "                              lambda _: (mp, vp),\n",
        "                              lambda _: update(y, mp, vp, observation_cov),\n",
        "                              None)\n",
        "\n",
        "        return (mf, vf), (mf, vf, mp, vp)\n",
        "    _, (mfs, vfs, mps, vps) = jax.lax.scan(scan_body, (m0, v0), (ss_ys, Fs, Ws))\n",
        "    return mfs, vfs, mps, vps\n",
        "\n",
        "\n",
        "def kalmanSmoothing(Fs, mfs, vfs, mps, vps):\n",
        "    \"\"\"\n",
        "    Implements the Kalman Smoothing algorithm for a given set of filtered means and variances.\n",
        "\n",
        "    The function consists of a nested function: `scan_body`. The `scan_body` function is used to\n",
        "    scan through the filtered means and variances and update the smoothed means and variances accordingly.\n",
        "\n",
        "    The function returns two arrays: `mss` and `vss` which represent the smoothed means and smoothed variances respectively.\n",
        "\n",
        "    Note: This function uses the `jax.lax.scan` function for efficient looping over the filtered means and variances.\n",
        "\n",
        "    Args:\n",
        "        Fs (array): Array of transition matrices\n",
        "        mfs (array): Filtered means\n",
        "        vfs (array): Filtered variances\n",
        "        mps (array): Predicted means\n",
        "        vps (array): Predicted variances\n",
        "\n",
        "    Returns:\n",
        "        mss (array): Smoothed means\n",
        "        vss (array): Smoothed variances\n",
        "    \"\"\"\n",
        "    def scan_body(carry, elem):\n",
        "        ms, vs = carry\n",
        "        mf, vf, mp, vp, F = elem\n",
        "\n",
        "        G = vf * F / vp\n",
        "        ms = mf + G * (ms - mp)\n",
        "        vs = vf + G * (vs - vp) * G\n",
        "        return (ms, vs), (ms, vs)\n",
        "\n",
        "    _, smoothing_results = jax.lax.scan(scan_body,\n",
        "                                        (mfs[-1], vfs[-1]),\n",
        "                                        (mfs[:-1], vfs[:-1], mps[1:], vps[1:], Fs[1:]),\n",
        "                                        reverse=True)\n",
        "    mss = jnp.concatenate([smoothing_results[0], mfs[-1, None]], axis=0)\n",
        "    vss = jnp.concatenate([smoothing_results[1], vfs[-1, None]], axis=0)\n",
        "    return (mss, vss)"
      ],
      "metadata": {
        "id": "lxYa7N_oYEp6"
      },
      "execution_count": null,
      "outputs": []
    }
  ]
}